{
  "cells": [
    {
      "cell_type": "code",
      "execution_count": 1,
      "metadata": {
        "colab": {
          "base_uri": "https://localhost:8080/"
        },
        "id": "vzbzDA-engE1",
        "outputId": "c6ef034b-bbb4-4ea4-bf15-b5588418d8f9"
      },
      "outputs": [
        {
          "name": "stdout",
          "output_type": "stream",
          "text": [
            "Looking in indexes: https://pypi.org/simple, https://us-python.pkg.dev/colab-wheels/public/simple/\n",
            "Collecting scikit-plot\n",
            "  Downloading scikit_plot-0.3.7-py3-none-any.whl (33 kB)\n",
            "Requirement already satisfied: scipy>=0.9 in /usr/local/lib/python3.8/dist-packages (from scikit-plot) (1.7.3)\n",
            "Requirement already satisfied: matplotlib>=1.4.0 in /usr/local/lib/python3.8/dist-packages (from scikit-plot) (3.2.2)\n",
            "Requirement already satisfied: joblib>=0.10 in /usr/local/lib/python3.8/dist-packages (from scikit-plot) (1.2.0)\n",
            "Requirement already satisfied: scikit-learn>=0.18 in /usr/local/lib/python3.8/dist-packages (from scikit-plot) (1.0.2)\n",
            "Requirement already satisfied: kiwisolver>=1.0.1 in /usr/local/lib/python3.8/dist-packages (from matplotlib>=1.4.0->scikit-plot) (1.4.4)\n",
            "Requirement already satisfied: cycler>=0.10 in /usr/local/lib/python3.8/dist-packages (from matplotlib>=1.4.0->scikit-plot) (0.11.0)\n",
            "Requirement already satisfied: python-dateutil>=2.1 in /usr/local/lib/python3.8/dist-packages (from matplotlib>=1.4.0->scikit-plot) (2.8.2)\n",
            "Requirement already satisfied: pyparsing!=2.0.4,!=2.1.2,!=2.1.6,>=2.0.1 in /usr/local/lib/python3.8/dist-packages (from matplotlib>=1.4.0->scikit-plot) (3.0.9)\n",
            "Requirement already satisfied: numpy>=1.11 in /usr/local/lib/python3.8/dist-packages (from matplotlib>=1.4.0->scikit-plot) (1.21.6)\n",
            "Requirement already satisfied: six>=1.5 in /usr/local/lib/python3.8/dist-packages (from python-dateutil>=2.1->matplotlib>=1.4.0->scikit-plot) (1.15.0)\n",
            "Requirement already satisfied: threadpoolctl>=2.0.0 in /usr/local/lib/python3.8/dist-packages (from scikit-learn>=0.18->scikit-plot) (3.1.0)\n",
            "Installing collected packages: scikit-plot\n",
            "Successfully installed scikit-plot-0.3.7\n"
          ]
        }
      ],
      "source": [
        "!pip install scikit-plot"
      ]
    },
    {
      "cell_type": "code",
      "execution_count": 2,
      "metadata": {
        "id": "Oposph3HoXGK"
      },
      "outputs": [],
      "source": [
        "#import libraries\n",
        "from sklearn import preprocessing\n",
        "import pandas as pd\n",
        "\n",
        "#import different ML classifiers\n",
        "from sklearn.naive_bayes import GaussianNB, BernoulliNB, MultinomialNB\n",
        "from sklearn.svm import SVC, LinearSVC\n",
        "from sklearn.linear_model import LogisticRegression\n",
        "from sklearn.tree import DecisionTreeClassifier\n",
        "from sklearn.ensemble import RandomForestClassifier\n",
        "from sklearn.neural_network import MLPClassifier\n",
        "\n",
        "#import ML evaluation metrics\n",
        "from sklearn.metrics import accuracy_score, f1_score,recall_score,precision_score\n",
        "from sklearn.model_selection import train_test_split\n",
        "from sklearn import metrics, model_selection\n",
        "from sklearn.model_selection import ShuffleSplit, cross_val_predict, cross_val_score, LeavePOut"
      ]
    },
    {
      "cell_type": "code",
      "execution_count": 3,
      "metadata": {
        "colab": {
          "base_uri": "https://localhost:8080/"
        },
        "id": "5-Hin6atobqU",
        "outputId": "9318f2c6-5762-4cc1-f265-3d8d21bdc067"
      },
      "outputs": [
        {
          "name": "stdout",
          "output_type": "stream",
          "text": [
            "Mounted at /content/drive\n"
          ]
        }
      ],
      "source": [
        "#import library for accesssing Google Drive from Google Colab\n",
        "from google.colab import drive\n",
        "drive.mount('/content/drive')"
      ]
    },
    {
      "cell_type": "code",
      "execution_count": 4,
      "metadata": {
        "colab": {
          "base_uri": "https://localhost:8080/",
          "height": 424
        },
        "id": "TJIr9FbYorEh",
        "outputId": "9a2518e7-07e9-4c38-cc4e-e4a6871d7da9"
      },
      "outputs": [
        {
          "data": {
            "text/html": [
              "\n",
              "  <div id=\"df-733493f3-f284-4622-be62-b57151e625c2\">\n",
              "    <div class=\"colab-df-container\">\n",
              "      <div>\n",
              "<style scoped>\n",
              "    .dataframe tbody tr th:only-of-type {\n",
              "        vertical-align: middle;\n",
              "    }\n",
              "\n",
              "    .dataframe tbody tr th {\n",
              "        vertical-align: top;\n",
              "    }\n",
              "\n",
              "    .dataframe thead th {\n",
              "        text-align: right;\n",
              "    }\n",
              "</style>\n",
              "<table border=\"1\" class=\"dataframe\">\n",
              "  <thead>\n",
              "    <tr style=\"text-align: right;\">\n",
              "      <th></th>\n",
              "      <th>height</th>\n",
              "      <th>weight</th>\n",
              "      <th>beard</th>\n",
              "      <th>hair_length</th>\n",
              "      <th>shoe_size</th>\n",
              "      <th>scarf</th>\n",
              "      <th>eye_color</th>\n",
              "      <th>gender</th>\n",
              "    </tr>\n",
              "  </thead>\n",
              "  <tbody>\n",
              "    <tr>\n",
              "      <th>0</th>\n",
              "      <td>71</td>\n",
              "      <td>176</td>\n",
              "      <td>yes</td>\n",
              "      <td>short</td>\n",
              "      <td>44</td>\n",
              "      <td>no</td>\n",
              "      <td>black</td>\n",
              "      <td>male</td>\n",
              "    </tr>\n",
              "    <tr>\n",
              "      <th>1</th>\n",
              "      <td>68</td>\n",
              "      <td>165</td>\n",
              "      <td>no</td>\n",
              "      <td>bald</td>\n",
              "      <td>41</td>\n",
              "      <td>no</td>\n",
              "      <td>black</td>\n",
              "      <td>male</td>\n",
              "    </tr>\n",
              "    <tr>\n",
              "      <th>2</th>\n",
              "      <td>62</td>\n",
              "      <td>132</td>\n",
              "      <td>no</td>\n",
              "      <td>medium</td>\n",
              "      <td>37</td>\n",
              "      <td>yes</td>\n",
              "      <td>blue</td>\n",
              "      <td>female</td>\n",
              "    </tr>\n",
              "    <tr>\n",
              "      <th>3</th>\n",
              "      <td>65</td>\n",
              "      <td>138</td>\n",
              "      <td>no</td>\n",
              "      <td>long</td>\n",
              "      <td>38</td>\n",
              "      <td>no</td>\n",
              "      <td>gray</td>\n",
              "      <td>female</td>\n",
              "    </tr>\n",
              "    <tr>\n",
              "      <th>4</th>\n",
              "      <td>70</td>\n",
              "      <td>197</td>\n",
              "      <td>yes</td>\n",
              "      <td>medium</td>\n",
              "      <td>43</td>\n",
              "      <td>no</td>\n",
              "      <td>gray</td>\n",
              "      <td>male</td>\n",
              "    </tr>\n",
              "    <tr>\n",
              "      <th>...</th>\n",
              "      <td>...</td>\n",
              "      <td>...</td>\n",
              "      <td>...</td>\n",
              "      <td>...</td>\n",
              "      <td>...</td>\n",
              "      <td>...</td>\n",
              "      <td>...</td>\n",
              "      <td>...</td>\n",
              "    </tr>\n",
              "    <tr>\n",
              "      <th>75</th>\n",
              "      <td>65</td>\n",
              "      <td>99</td>\n",
              "      <td>no</td>\n",
              "      <td>short</td>\n",
              "      <td>39</td>\n",
              "      <td>yes</td>\n",
              "      <td>green</td>\n",
              "      <td>female</td>\n",
              "    </tr>\n",
              "    <tr>\n",
              "      <th>76</th>\n",
              "      <td>61</td>\n",
              "      <td>98</td>\n",
              "      <td>no</td>\n",
              "      <td>short</td>\n",
              "      <td>37</td>\n",
              "      <td>no</td>\n",
              "      <td>brown</td>\n",
              "      <td>female</td>\n",
              "    </tr>\n",
              "    <tr>\n",
              "      <th>77</th>\n",
              "      <td>67</td>\n",
              "      <td>119</td>\n",
              "      <td>yes</td>\n",
              "      <td>short</td>\n",
              "      <td>40</td>\n",
              "      <td>no</td>\n",
              "      <td>black</td>\n",
              "      <td>male</td>\n",
              "    </tr>\n",
              "    <tr>\n",
              "      <th>78</th>\n",
              "      <td>70</td>\n",
              "      <td>190</td>\n",
              "      <td>yes</td>\n",
              "      <td>medium</td>\n",
              "      <td>43</td>\n",
              "      <td>no</td>\n",
              "      <td>gray</td>\n",
              "      <td>male</td>\n",
              "    </tr>\n",
              "    <tr>\n",
              "      <th>79</th>\n",
              "      <td>62</td>\n",
              "      <td>142</td>\n",
              "      <td>yes</td>\n",
              "      <td>long</td>\n",
              "      <td>37</td>\n",
              "      <td>no</td>\n",
              "      <td>blue</td>\n",
              "      <td>female</td>\n",
              "    </tr>\n",
              "  </tbody>\n",
              "</table>\n",
              "<p>80 rows × 8 columns</p>\n",
              "</div>\n",
              "      <button class=\"colab-df-convert\" onclick=\"convertToInteractive('df-733493f3-f284-4622-be62-b57151e625c2')\"\n",
              "              title=\"Convert this dataframe to an interactive table.\"\n",
              "              style=\"display:none;\">\n",
              "        \n",
              "  <svg xmlns=\"http://www.w3.org/2000/svg\" height=\"24px\"viewBox=\"0 0 24 24\"\n",
              "       width=\"24px\">\n",
              "    <path d=\"M0 0h24v24H0V0z\" fill=\"none\"/>\n",
              "    <path d=\"M18.56 5.44l.94 2.06.94-2.06 2.06-.94-2.06-.94-.94-2.06-.94 2.06-2.06.94zm-11 1L8.5 8.5l.94-2.06 2.06-.94-2.06-.94L8.5 2.5l-.94 2.06-2.06.94zm10 10l.94 2.06.94-2.06 2.06-.94-2.06-.94-.94-2.06-.94 2.06-2.06.94z\"/><path d=\"M17.41 7.96l-1.37-1.37c-.4-.4-.92-.59-1.43-.59-.52 0-1.04.2-1.43.59L10.3 9.45l-7.72 7.72c-.78.78-.78 2.05 0 2.83L4 21.41c.39.39.9.59 1.41.59.51 0 1.02-.2 1.41-.59l7.78-7.78 2.81-2.81c.8-.78.8-2.07 0-2.86zM5.41 20L4 18.59l7.72-7.72 1.47 1.35L5.41 20z\"/>\n",
              "  </svg>\n",
              "      </button>\n",
              "      \n",
              "  <style>\n",
              "    .colab-df-container {\n",
              "      display:flex;\n",
              "      flex-wrap:wrap;\n",
              "      gap: 12px;\n",
              "    }\n",
              "\n",
              "    .colab-df-convert {\n",
              "      background-color: #E8F0FE;\n",
              "      border: none;\n",
              "      border-radius: 50%;\n",
              "      cursor: pointer;\n",
              "      display: none;\n",
              "      fill: #1967D2;\n",
              "      height: 32px;\n",
              "      padding: 0 0 0 0;\n",
              "      width: 32px;\n",
              "    }\n",
              "\n",
              "    .colab-df-convert:hover {\n",
              "      background-color: #E2EBFA;\n",
              "      box-shadow: 0px 1px 2px rgba(60, 64, 67, 0.3), 0px 1px 3px 1px rgba(60, 64, 67, 0.15);\n",
              "      fill: #174EA6;\n",
              "    }\n",
              "\n",
              "    [theme=dark] .colab-df-convert {\n",
              "      background-color: #3B4455;\n",
              "      fill: #D2E3FC;\n",
              "    }\n",
              "\n",
              "    [theme=dark] .colab-df-convert:hover {\n",
              "      background-color: #434B5C;\n",
              "      box-shadow: 0px 1px 3px 1px rgba(0, 0, 0, 0.15);\n",
              "      filter: drop-shadow(0px 1px 2px rgba(0, 0, 0, 0.3));\n",
              "      fill: #FFFFFF;\n",
              "    }\n",
              "  </style>\n",
              "\n",
              "      <script>\n",
              "        const buttonEl =\n",
              "          document.querySelector('#df-733493f3-f284-4622-be62-b57151e625c2 button.colab-df-convert');\n",
              "        buttonEl.style.display =\n",
              "          google.colab.kernel.accessAllowed ? 'block' : 'none';\n",
              "\n",
              "        async function convertToInteractive(key) {\n",
              "          const element = document.querySelector('#df-733493f3-f284-4622-be62-b57151e625c2');\n",
              "          const dataTable =\n",
              "            await google.colab.kernel.invokeFunction('convertToInteractive',\n",
              "                                                     [key], {});\n",
              "          if (!dataTable) return;\n",
              "\n",
              "          const docLinkHtml = 'Like what you see? Visit the ' +\n",
              "            '<a target=\"_blank\" href=https://colab.research.google.com/notebooks/data_table.ipynb>data table notebook</a>'\n",
              "            + ' to learn more about interactive tables.';\n",
              "          element.innerHTML = '';\n",
              "          dataTable['output_type'] = 'display_data';\n",
              "          await google.colab.output.renderOutput(dataTable, element);\n",
              "          const docLink = document.createElement('div');\n",
              "          docLink.innerHTML = docLinkHtml;\n",
              "          element.appendChild(docLink);\n",
              "        }\n",
              "      </script>\n",
              "    </div>\n",
              "  </div>\n",
              "  "
            ],
            "text/plain": [
              "    height  weight beard hair_length  shoe_size scarf eye_color  gender\n",
              "0       71     176   yes       short         44    no     black    male\n",
              "1       68     165    no        bald         41    no     black    male\n",
              "2       62     132    no      medium         37   yes      blue  female\n",
              "3       65     138    no        long         38    no      gray  female\n",
              "4       70     197   yes      medium         43    no      gray    male\n",
              "..     ...     ...   ...         ...        ...   ...       ...     ...\n",
              "75      65      99    no       short         39   yes     green  female\n",
              "76      61      98    no       short         37    no     brown  female\n",
              "77      67     119   yes       short         40    no     black    male\n",
              "78      70     190   yes      medium         43    no      gray    male\n",
              "79      62     142   yes        long         37    no      blue  female\n",
              "\n",
              "[80 rows x 8 columns]"
            ]
          },
          "execution_count": 4,
          "metadata": {},
          "output_type": "execute_result"
        }
      ],
      "source": [
        "#read CSV (dataset) file\n",
        "df_gender = pd.read_csv('/content/drive/My Drive/gender-prediction.csv')\n",
        "df_gender"
      ]
    },
    {
      "cell_type": "code",
      "execution_count": 5,
      "metadata": {
        "colab": {
          "base_uri": "https://localhost:8080/"
        },
        "id": "sLqv4SmL0Uow",
        "outputId": "82bc7756-003d-4457-c343-305b024b6881"
      },
      "outputs": [
        {
          "data": {
            "text/plain": [
              "0       male\n",
              "1       male\n",
              "2     female\n",
              "3     female\n",
              "4       male\n",
              "       ...  \n",
              "75    female\n",
              "76    female\n",
              "77      male\n",
              "78      male\n",
              "79    female\n",
              "Name: gender, Length: 80, dtype: object"
            ]
          },
          "execution_count": 5,
          "metadata": {},
          "output_type": "execute_result"
        }
      ],
      "source": [
        "first_height=df_gender['height']\n",
        "#first_height\n",
        "first_weight=df_gender['weight']\n",
        "#first_weight\n",
        "first_beard=df_gender['beard']\n",
        "#first_beard\n",
        "first_hair_length=df_gender['hair_length']\n",
        "#first_hair_length\n",
        "first_shoe_size=df_gender['shoe_size']\n",
        "#first_shoe_size\n",
        "first_scarf=df_gender['scarf']\n",
        "#first_scarf\n",
        "first_eye_color=df_gender['eye_color']\n",
        "#first_eye_color\n",
        "gend_out=df_gender['gender']\n",
        "gend_out"
      ]
    },
    {
      "cell_type": "code",
      "execution_count": 6,
      "metadata": {
        "colab": {
          "base_uri": "https://localhost:8080/"
        },
        "id": "L2r1wmNEHFMb",
        "outputId": "1c0c5df9-3ee3-4755-f20a-aa43e626c662"
      },
      "outputs": [
        {
          "name": "stdout",
          "output_type": "stream",
          "text": [
            "[1 0 0 0 1 1 1 0 0 0 0 1 0 0 1 1 0 0 0 0 0 1 1 1 0 1 1 0 0 0 0 1 0 0 0 1 0\n",
            " 1 0 0 0 1 1 1 1 0 0 1 1 1 1 1 0 1 0 0 1 0 1 1 0 1 1 0 0 1 0 1 0 1 0 0 1 0\n",
            " 0 0 0 1 1 1]\n",
            "[3 0 2 1 2 3 0 3 3 2 1 3 2 1 2 3 3 1 1 2 2 2 3 2 2 2 2 2 1 3 2 2 1 2 2 2 2\n",
            " 2 1 2 3 2 2 3 0 2 1 2 2 2 2 2 2 2 1 2 2 1 2 2 2 2 3 1 1 0 1 3 2 3 1 2 2 1\n",
            " 1 3 3 3 2 1]\n",
            "[0 0 1 0 0 0 0 0 0 1 0 0 0 0 0 0 0 1 1 0 0 0 0 0 1 0 0 0 0 1 1 0 0 0 1 0 1\n",
            " 0 1 1 0 0 0 0 0 0 0 0 0 0 0 0 0 0 0 0 0 1 0 0 0 0 0 1 1 0 1 0 1 0 0 0 0 1\n",
            " 1 1 0 0 0 0]\n",
            "[0 0 1 3 3 0 2 2 4 3 3 3 0 3 0 1 0 4 3 4 0 0 0 3 2 2 0 4 1 3 2 3 3 0 2 2 4\n",
            " 0 3 4 3 0 0 2 0 2 0 2 0 0 0 2 2 2 2 0 2 3 2 2 2 2 2 4 3 0 4 0 0 0 2 0 2 3\n",
            " 4 4 2 0 3 1]\n",
            "[1 1 0 0 1 1 1 1 0 0 0 1 1 0 1 1 1 0 0 0 0 1 1 1 0 1 1 0 0 0 0 1 0 0 0 1 0\n",
            " 1 0 0 0 1 1 1 1 1 1 1 1 1 1 1 1 1 0 1 1 0 1 1 1 1 1 0 0 1 0 1 0 1 0 1 1 0\n",
            " 0 0 0 1 1 0]\n"
          ]
        }
      ],
      "source": [
        "#converting strings into numbers\n",
        "labels = preprocessing.LabelEncoder()\n",
        "beard_encod = labels.fit_transform(first_beard)\n",
        "print(beard_encod)\n",
        "\n",
        "hairlength_encod = labels.fit_transform(first_hair_length)\n",
        "print(hairlength_encod)\n",
        "\n",
        "scarf_encod = labels.fit_transform(first_scarf)\n",
        "print(scarf_encod)\n",
        "\n",
        "eyecolor_encod = labels.fit_transform(first_eye_color)\n",
        "print(eyecolor_encod)\n",
        "\n",
        "gender_encod = labels.fit_transform(gend_out)\n",
        "print(gender_encod)"
      ]
    },
    {
      "cell_type": "code",
      "execution_count": 7,
      "metadata": {
        "colab": {
          "base_uri": "https://localhost:8080/"
        },
        "id": "nHDpUhDtIhyA",
        "outputId": "f31ad7c2-f891-4cc8-9e27-ae30b6932ee6"
      },
      "outputs": [
        {
          "name": "stdout",
          "output_type": "stream",
          "text": [
            "[(71, 176, 1, 3, 44, 0, 0), (68, 165, 0, 0, 41, 0, 0), (62, 132, 0, 2, 37, 1, 1), (65, 138, 0, 1, 38, 0, 3), (70, 197, 1, 2, 43, 0, 3), (71, 190, 1, 3, 43, 0, 0), (74, 201, 1, 0, 44, 0, 2), (74, 182, 0, 3, 46, 0, 2), (63, 127, 0, 3, 35, 0, 4), (65, 139, 0, 2, 37, 1, 3), (66, 125, 0, 1, 36, 0, 3), (73, 188, 1, 3, 42, 0, 3), (74, 167, 0, 2, 41, 0, 0), (68, 141, 0, 1, 38, 0, 3), (70, 199, 1, 2, 40, 0, 0), (73, 189, 1, 3, 43, 0, 1), (69, 159, 0, 3, 43, 0, 0), (68, 135, 0, 1, 37, 1, 4), (68, 145, 0, 1, 38, 1, 3), (66, 138, 0, 2, 37, 0, 4), (66, 132, 0, 2, 40, 0, 0), (71, 170, 1, 2, 42, 0, 0), (67, 119, 1, 3, 40, 0, 0), (70, 190, 1, 2, 43, 0, 3), (68, 154, 0, 2, 38, 1, 2), (71, 155, 1, 2, 45, 0, 2), (69, 121, 1, 2, 41, 0, 0), (68, 97, 0, 2, 39, 0, 4), (68, 158, 0, 1, 38, 0, 1), (58, 92, 0, 3, 40, 1, 3), (63, 109, 0, 2, 37, 1, 2), (71, 158, 1, 2, 44, 0, 3), (61, 88, 0, 1, 37, 0, 3), (67, 132, 0, 2, 38, 0, 0), (62, 116, 0, 2, 39, 1, 2), (71, 125, 1, 2, 42, 0, 2), (63, 125, 0, 2, 39, 1, 4), (68, 121, 1, 2, 40, 0, 0), (67, 145, 0, 1, 39, 1, 3), (65, 99, 0, 2, 38, 1, 4), (61, 98, 0, 3, 37, 0, 3), (70, 167, 1, 2, 42, 0, 0), (64, 122, 1, 2, 42, 0, 0), (61, 156, 1, 3, 41, 0, 2), (69, 178, 1, 0, 44, 0, 0), (72, 150, 0, 2, 43, 0, 2), (70, 160, 0, 1, 42, 0, 0), (67, 167, 1, 2, 42, 0, 2), (72, 153, 1, 2, 42, 0, 0), (67, 130, 1, 2, 40, 0, 0), (72, 154, 1, 2, 42, 0, 0), (67, 119, 1, 2, 40, 0, 2), (65, 160, 0, 2, 41, 0, 2), (70, 121, 1, 2, 45, 0, 2), (63, 103, 0, 1, 38, 0, 2), (74, 218, 0, 2, 43, 0, 0), (72, 145, 1, 2, 42, 0, 2), (67, 99, 0, 1, 39, 1, 3), (69, 209, 1, 2, 43, 0, 2), (67, 143, 1, 2, 38, 0, 2), (70, 209, 0, 2, 44, 0, 2), (71, 145, 1, 2, 44, 0, 2), (72, 185, 1, 3, 44, 0, 2), (65, 96, 0, 1, 37, 1, 4), (60, 125, 0, 1, 38, 1, 3), (70, 166, 1, 0, 40, 0, 0), (63, 102, 0, 1, 38, 1, 4), (67, 133, 1, 3, 40, 0, 0), (62, 105, 0, 2, 37, 1, 0), (71, 168, 1, 3, 42, 0, 0), (62, 100, 0, 1, 38, 0, 2), (74, 202, 0, 2, 43, 0, 0), (72, 165, 1, 2, 44, 0, 2), (65, 98, 0, 1, 38, 1, 3), (67, 145, 0, 1, 39, 1, 4), (65, 99, 0, 3, 39, 1, 4), (61, 98, 0, 3, 37, 0, 2), (67, 119, 1, 3, 40, 0, 0), (70, 190, 1, 2, 43, 0, 3), (62, 142, 1, 1, 37, 0, 1)]\n",
            "[1 1 0 0 1 1 1 1 0 0 0 1 1 0 1 1 1 0 0 0 0 1 1 1 0 1 1 0 0 0 0 1 0 0 0 1 0\n",
            " 1 0 0 0 1 1 1 1 1 1 1 1 1 1 1 1 1 0 1 1 0 1 1 1 1 1 0 0 1 0 1 0 1 0 1 1 0\n",
            " 0 0 0 1 1 0]\n"
          ]
        }
      ],
      "source": [
        "#combining data (inputs ) into single list of tuples\n",
        "features = list(zip(first_height,first_weight,beard_encod,hairlength_encod,first_shoe_size,scarf_encod,eyecolor_encod))\n",
        "output_gender =gender_encod \n",
        "\n",
        "print(features)\n",
        "print(output_gender)"
      ]
    },
    {
      "cell_type": "code",
      "execution_count": 8,
      "metadata": {
        "id": "mISTEtNkJx2b"
      },
      "outputs": [],
      "source": [
        "#make train/test split\n",
        "X_train, x_test, Y_train, y_test = train_test_split(features, output_gender, test_size = 0.33, random_state = 3)"
      ]
    },
    {
      "cell_type": "code",
      "execution_count": 9,
      "metadata": {
        "id": "XBPc-9k-KTFO"
      },
      "outputs": [],
      "source": [
        "#Random Forest Classifier\n",
        "model = RandomForestClassifier()"
      ]
    },
    {
      "cell_type": "code",
      "execution_count": 10,
      "metadata": {
        "colab": {
          "base_uri": "https://localhost:8080/"
        },
        "id": "bcbPGKioKq7e",
        "outputId": "27045ab8-c203-4193-f551-2e7be46c36a8"
      },
      "outputs": [
        {
          "data": {
            "text/plain": [
              "RandomForestClassifier()"
            ]
          },
          "execution_count": 10,
          "metadata": {},
          "output_type": "execute_result"
        }
      ],
      "source": [
        "#train the model using the data (training data)\n",
        "model.fit(X_train,Y_train)"
      ]
    },
    {
      "cell_type": "code",
      "execution_count": 11,
      "metadata": {
        "id": "gh-F3PUdK0aN"
      },
      "outputs": [],
      "source": [
        "#make prediction using the trained model\n",
        "prediction = model.predict(x_test)"
      ]
    },
    {
      "cell_type": "code",
      "execution_count": 12,
      "metadata": {
        "colab": {
          "base_uri": "https://localhost:8080/"
        },
        "id": "O2Ozt8ZxK7Iv",
        "outputId": "2ab9afc8-17d0-416e-fb68-674de2727640"
      },
      "outputs": [
        {
          "name": "stdout",
          "output_type": "stream",
          "text": [
            "100.0\n"
          ]
        }
      ],
      "source": [
        "#calcualte and print accuracy\n",
        "model_acc = accuracy_score(y_test, prediction)*100\n",
        "print(model_acc)"
      ]
    },
    {
      "cell_type": "code",
      "execution_count": 13,
      "metadata": {
        "colab": {
          "base_uri": "https://localhost:8080/"
        },
        "id": "6uoqb5BcLBIH",
        "outputId": "33090170-939d-4515-c141-3daab88cba54"
      },
      "outputs": [
        {
          "name": "stdout",
          "output_type": "stream",
          "text": [
            "              precision    recall  f1-score   support\n",
            "\n",
            "           0       1.00      1.00      1.00        10\n",
            "           1       1.00      1.00      1.00        17\n",
            "\n",
            "    accuracy                           1.00        27\n",
            "   macro avg       1.00      1.00      1.00        27\n",
            "weighted avg       1.00      1.00      1.00        27\n",
            "\n"
          ]
        }
      ],
      "source": [
        "#generate classification report\n",
        "model_cl_rep = metrics.classification_report(y_test, prediction)\n",
        "print(model_cl_rep)"
      ]
    },
    {
      "cell_type": "code",
      "execution_count": 14,
      "metadata": {
        "colab": {
          "base_uri": "https://localhost:8080/"
        },
        "id": "2srGwA-DMk9Y",
        "outputId": "1611c85a-b294-4aad-bbf2-a01fc3933eca"
      },
      "outputs": [
        {
          "name": "stdout",
          "output_type": "stream",
          "text": [
            "[[10  0]\n",
            " [ 0 17]]\n"
          ]
        }
      ],
      "source": [
        "#generate confusion matrix\n",
        "model_cm = metrics.confusion_matrix(y_test, prediction)\n",
        "print(model_cm)"
      ]
    },
    {
      "cell_type": "code",
      "execution_count": 15,
      "metadata": {
        "id": "piWT0U8dO-UK"
      },
      "outputs": [],
      "source": [
        "#Support Vector Machines\n",
        "model_SVC=SVC()"
      ]
    },
    {
      "cell_type": "code",
      "execution_count": 16,
      "metadata": {
        "colab": {
          "base_uri": "https://localhost:8080/"
        },
        "id": "HnRD2dSzRFM_",
        "outputId": "8f62a3e4-15d8-4c1d-8972-03e7c37295bf"
      },
      "outputs": [
        {
          "data": {
            "text/plain": [
              "SVC()"
            ]
          },
          "execution_count": 16,
          "metadata": {},
          "output_type": "execute_result"
        }
      ],
      "source": [
        "#train the model using the data (training data)\n",
        "model_SVC.fit(X_train,Y_train)"
      ]
    },
    {
      "cell_type": "code",
      "execution_count": 17,
      "metadata": {
        "id": "ZGPpEeNERQvt"
      },
      "outputs": [],
      "source": [
        "#make prediction using the trained model\n",
        "prediction_SVC = model_SVC.predict(x_test)"
      ]
    },
    {
      "cell_type": "code",
      "execution_count": 18,
      "metadata": {
        "colab": {
          "base_uri": "https://localhost:8080/"
        },
        "id": "hkQK7pPaRYC3",
        "outputId": "897ffb0a-79be-4cca-e44d-05188126fd94"
      },
      "outputs": [
        {
          "name": "stdout",
          "output_type": "stream",
          "text": [
            "77.77777777777779\n"
          ]
        }
      ],
      "source": [
        "#calcualte and print accuracy\n",
        "model_acc_SVC = accuracy_score(y_test, prediction_SVC)*100\n",
        "print(model_acc_SVC)"
      ]
    },
    {
      "cell_type": "code",
      "execution_count": 19,
      "metadata": {
        "colab": {
          "base_uri": "https://localhost:8080/"
        },
        "id": "EZnWoKRYRsje",
        "outputId": "12bd434c-90a9-495b-ba80-703fedc6c0ba"
      },
      "outputs": [
        {
          "name": "stdout",
          "output_type": "stream",
          "text": [
            "              precision    recall  f1-score   support\n",
            "\n",
            "           0       0.70      0.70      0.70        10\n",
            "           1       0.82      0.82      0.82        17\n",
            "\n",
            "    accuracy                           0.78        27\n",
            "   macro avg       0.76      0.76      0.76        27\n",
            "weighted avg       0.78      0.78      0.78        27\n",
            "\n"
          ]
        }
      ],
      "source": [
        "#generate classification report\n",
        "model_cl_rep_SVC = metrics.classification_report(y_test, prediction_SVC)\n",
        "print(model_cl_rep_SVC)"
      ]
    },
    {
      "cell_type": "code",
      "execution_count": 20,
      "metadata": {
        "colab": {
          "base_uri": "https://localhost:8080/"
        },
        "id": "uPLeNGBeR7wx",
        "outputId": "db761acc-0abe-477c-cdfd-099d833468ea"
      },
      "outputs": [
        {
          "name": "stdout",
          "output_type": "stream",
          "text": [
            "[[ 7  3]\n",
            " [ 3 14]]\n"
          ]
        }
      ],
      "source": [
        "#generate confusion matrix\n",
        "model_cm_SVC = metrics.confusion_matrix(y_test, prediction_SVC)\n",
        "print(model_cm_SVC)"
      ]
    },
    {
      "cell_type": "code",
      "execution_count": 21,
      "metadata": {
        "id": "4X_FwGqFSje9"
      },
      "outputs": [],
      "source": [
        "#Linear Support Vector Machines\n",
        "model_LSVC=LinearSVC()"
      ]
    },
    {
      "cell_type": "code",
      "execution_count": null,
      "metadata": {
        "id": "eRDK6k5CUQf9"
      },
      "outputs": [],
      "source": [
        "#train the model using the data (training data)\n",
        "model_LSVC.fit(X_train,Y_train)"
      ]
    },
    {
      "cell_type": "code",
      "execution_count": 23,
      "metadata": {
        "id": "hruDJBmAUQcf"
      },
      "outputs": [],
      "source": [
        "#make prediction using the trained model\n",
        "prediction_LSVC = model_LSVC.predict(x_test)"
      ]
    },
    {
      "cell_type": "code",
      "execution_count": 24,
      "metadata": {
        "colab": {
          "base_uri": "https://localhost:8080/"
        },
        "id": "sfZwutsIUQaA",
        "outputId": "bb2241ca-5ea8-46c6-879e-9bc4ba0f1102"
      },
      "outputs": [
        {
          "name": "stdout",
          "output_type": "stream",
          "text": [
            "88.88888888888889\n"
          ]
        }
      ],
      "source": [
        "#calcualte and print accuracy\n",
        "model_acc_LSVC = accuracy_score(y_test, prediction_LSVC)*100\n",
        "print(model_acc_LSVC)"
      ]
    },
    {
      "cell_type": "code",
      "execution_count": 25,
      "metadata": {
        "colab": {
          "base_uri": "https://localhost:8080/"
        },
        "id": "OLg-FMy8UQXd",
        "outputId": "6b9e2669-0a1a-40cf-a93f-8b93c576d742"
      },
      "outputs": [
        {
          "name": "stdout",
          "output_type": "stream",
          "text": [
            "              precision    recall  f1-score   support\n",
            "\n",
            "           0       0.82      0.90      0.86        10\n",
            "           1       0.94      0.88      0.91        17\n",
            "\n",
            "    accuracy                           0.89        27\n",
            "   macro avg       0.88      0.89      0.88        27\n",
            "weighted avg       0.89      0.89      0.89        27\n",
            "\n"
          ]
        }
      ],
      "source": [
        "#generate classification report\n",
        "model_cl_rep_LSVC = metrics.classification_report(y_test, prediction_LSVC)\n",
        "print(model_cl_rep_LSVC)"
      ]
    },
    {
      "cell_type": "code",
      "execution_count": 26,
      "metadata": {
        "colab": {
          "base_uri": "https://localhost:8080/"
        },
        "id": "DN9i66VVUQQ8",
        "outputId": "f7c6bdb5-5d54-4425-85a4-0a4d4d3c6507"
      },
      "outputs": [
        {
          "name": "stdout",
          "output_type": "stream",
          "text": [
            "[[ 9  1]\n",
            " [ 2 15]]\n"
          ]
        }
      ],
      "source": [
        "#generate confusion matrix\n",
        "model_cm_LSVC = metrics.confusion_matrix(y_test, prediction_LSVC)\n",
        "print(model_cm_LSVC)"
      ]
    },
    {
      "cell_type": "code",
      "execution_count": 27,
      "metadata": {
        "id": "NOBTKI1aUQDK"
      },
      "outputs": [],
      "source": [
        "#Multilayer Perceptron classification\n",
        "model_MLP=MLPClassifier()"
      ]
    },
    {
      "cell_type": "code",
      "execution_count": null,
      "metadata": {
        "id": "33zOZQ19W6xX"
      },
      "outputs": [],
      "source": [
        "#train the model using the data (training data)\n",
        "model_MLP.fit(X_train,Y_train)"
      ]
    },
    {
      "cell_type": "code",
      "execution_count": 29,
      "metadata": {
        "id": "1GNdOXqgcCL5"
      },
      "outputs": [],
      "source": [
        "#make prediction using the trained model\n",
        "prediction_MLP = model_MLP.predict(x_test)"
      ]
    },
    {
      "cell_type": "code",
      "execution_count": 30,
      "metadata": {
        "colab": {
          "base_uri": "https://localhost:8080/"
        },
        "id": "KRrPPua9cJWd",
        "outputId": "86fb4733-72c1-465f-eb9c-7b91729b3775"
      },
      "outputs": [
        {
          "name": "stdout",
          "output_type": "stream",
          "text": [
            "92.5925925925926\n"
          ]
        }
      ],
      "source": [
        "#calcualte and print accuracy\n",
        "model_acc_MLP = accuracy_score(y_test, prediction_MLP)*100\n",
        "print(model_acc_MLP)"
      ]
    },
    {
      "cell_type": "code",
      "execution_count": 31,
      "metadata": {
        "colab": {
          "base_uri": "https://localhost:8080/"
        },
        "id": "UlYWPIvocJTM",
        "outputId": "dd5d134b-fe42-4f50-89e8-6e62fe8d015e"
      },
      "outputs": [
        {
          "name": "stdout",
          "output_type": "stream",
          "text": [
            "              precision    recall  f1-score   support\n",
            "\n",
            "           0       0.90      0.90      0.90        10\n",
            "           1       0.94      0.94      0.94        17\n",
            "\n",
            "    accuracy                           0.93        27\n",
            "   macro avg       0.92      0.92      0.92        27\n",
            "weighted avg       0.93      0.93      0.93        27\n",
            "\n"
          ]
        }
      ],
      "source": [
        "#generate classification report\n",
        "model_cl_rep_MLP = metrics.classification_report(y_test, prediction_MLP)\n",
        "print(model_cl_rep_MLP)"
      ]
    },
    {
      "cell_type": "code",
      "execution_count": 32,
      "metadata": {
        "colab": {
          "base_uri": "https://localhost:8080/"
        },
        "id": "GQ6ZL9fOcJQ9",
        "outputId": "b2de74a9-c0eb-4ece-c3b7-68fcc7e5010e"
      },
      "outputs": [
        {
          "name": "stdout",
          "output_type": "stream",
          "text": [
            "[[ 9  1]\n",
            " [ 1 16]]\n"
          ]
        }
      ],
      "source": [
        "#generate confusion matrix\n",
        "model_cm_MLP = metrics.confusion_matrix(y_test, prediction_MLP)\n",
        "print(model_cm_MLP)"
      ]
    },
    {
      "cell_type": "markdown",
      "metadata": {
        "id": "7pO3NdF1bKJe"
      },
      "source": [
        "##**Question 2 Using 80/20 Split train/test Ratio**"
      ]
    },
    {
      "cell_type": "code",
      "execution_count": 33,
      "metadata": {
        "id": "M5YRvRSocJOz"
      },
      "outputs": [],
      "source": [
        "#make train/test split\n",
        "Xtw_train, xtw_test, Ytw_train, ytw_test = train_test_split(features, output_gender, test_size = 0.20, random_state = 3)"
      ]
    },
    {
      "cell_type": "code",
      "execution_count": 34,
      "metadata": {
        "id": "ru54D0QNcJM8"
      },
      "outputs": [],
      "source": [
        "modeltw_RandomF = RandomForestClassifier()"
      ]
    },
    {
      "cell_type": "code",
      "execution_count": 35,
      "metadata": {
        "colab": {
          "base_uri": "https://localhost:8080/"
        },
        "id": "gYkCcrgucJKb",
        "outputId": "bf68f817-6f75-473d-bd79-9bf421c36105"
      },
      "outputs": [
        {
          "data": {
            "text/plain": [
              "RandomForestClassifier()"
            ]
          },
          "execution_count": 35,
          "metadata": {},
          "output_type": "execute_result"
        }
      ],
      "source": [
        "#train the model using the data (training data)\n",
        "modeltw_RandomF.fit(Xtw_train,Ytw_train)"
      ]
    },
    {
      "cell_type": "code",
      "execution_count": 36,
      "metadata": {
        "id": "IESKpsiAcJIG"
      },
      "outputs": [],
      "source": [
        "#make prediction using the trained model\n",
        "predictiontwRandomF = modeltw_RandomF.predict(xtw_test)"
      ]
    },
    {
      "cell_type": "code",
      "execution_count": 37,
      "metadata": {
        "colab": {
          "base_uri": "https://localhost:8080/"
        },
        "id": "i_ih-ZM3cIzm",
        "outputId": "7f11cdc7-2080-4fb7-9b19-e1ab6cd51bbf"
      },
      "outputs": [
        {
          "name": "stdout",
          "output_type": "stream",
          "text": [
            "100.0\n"
          ]
        }
      ],
      "source": [
        "#calcualte and print accuracy\n",
        "model_acc_twRandomF = accuracy_score(ytw_test, predictiontwRandomF)*100\n",
        "print(model_acc_twRandomF)"
      ]
    },
    {
      "cell_type": "code",
      "execution_count": 38,
      "metadata": {
        "colab": {
          "base_uri": "https://localhost:8080/"
        },
        "id": "sLuS9lj1h18-",
        "outputId": "9ef0c62f-6217-45c2-fc75-b99834f5e60a"
      },
      "outputs": [
        {
          "name": "stdout",
          "output_type": "stream",
          "text": [
            "              precision    recall  f1-score   support\n",
            "\n",
            "           0       1.00      1.00      1.00         6\n",
            "           1       1.00      1.00      1.00        10\n",
            "\n",
            "    accuracy                           1.00        16\n",
            "   macro avg       1.00      1.00      1.00        16\n",
            "weighted avg       1.00      1.00      1.00        16\n",
            "\n"
          ]
        }
      ],
      "source": [
        "#generate classification report\n",
        "model_cl_rep_twRF = metrics.classification_report(ytw_test, predictiontwRandomF)\n",
        "print(model_cl_rep_twRF)"
      ]
    },
    {
      "cell_type": "code",
      "execution_count": 39,
      "metadata": {
        "colab": {
          "base_uri": "https://localhost:8080/"
        },
        "id": "rbBo2aFii1Td",
        "outputId": "6426cebe-0287-420a-f450-059dc9c20c55"
      },
      "outputs": [
        {
          "name": "stdout",
          "output_type": "stream",
          "text": [
            "[[ 6  0]\n",
            " [ 0 10]]\n"
          ]
        }
      ],
      "source": [
        "#generate confusion matrix\n",
        "model_cm_twRF = metrics.confusion_matrix(ytw_test, predictiontwRandomF)\n",
        "print(model_cm_twRF)"
      ]
    },
    {
      "cell_type": "code",
      "execution_count": 40,
      "metadata": {
        "id": "Oq6mDlRCi1QI"
      },
      "outputs": [],
      "source": [
        "model_twSVC=SVC()"
      ]
    },
    {
      "cell_type": "code",
      "execution_count": 41,
      "metadata": {
        "colab": {
          "base_uri": "https://localhost:8080/"
        },
        "id": "761ioTdei1OB",
        "outputId": "629cdbb0-5e8a-47c3-e95c-a48669aaedcb"
      },
      "outputs": [
        {
          "data": {
            "text/plain": [
              "SVC()"
            ]
          },
          "execution_count": 41,
          "metadata": {},
          "output_type": "execute_result"
        }
      ],
      "source": [
        "#train the model using the data (training data)\n",
        "model_twSVC.fit(Xtw_train,Ytw_train)"
      ]
    },
    {
      "cell_type": "code",
      "execution_count": 42,
      "metadata": {
        "id": "sg-3UtG3i1L7"
      },
      "outputs": [],
      "source": [
        "#make prediction using the trained model\n",
        "predictiontwSVC = model_twSVC.predict(xtw_test)"
      ]
    },
    {
      "cell_type": "code",
      "execution_count": 43,
      "metadata": {
        "colab": {
          "base_uri": "https://localhost:8080/"
        },
        "id": "oERf5Ad-i1KR",
        "outputId": "9ea775b2-1253-48e2-c813-1b86994473a9"
      },
      "outputs": [
        {
          "name": "stdout",
          "output_type": "stream",
          "text": [
            "81.25\n"
          ]
        }
      ],
      "source": [
        "#calcualte and print accuracy\n",
        "model_acc_twSVC = accuracy_score(ytw_test, predictiontwSVC)*100\n",
        "print(model_acc_twSVC)"
      ]
    },
    {
      "cell_type": "code",
      "execution_count": 44,
      "metadata": {
        "colab": {
          "base_uri": "https://localhost:8080/"
        },
        "id": "4bsVyhCvi1IZ",
        "outputId": "3e085668-5ba8-44f8-ce72-4ae0084f9e95"
      },
      "outputs": [
        {
          "name": "stdout",
          "output_type": "stream",
          "text": [
            "              precision    recall  f1-score   support\n",
            "\n",
            "           0       0.80      0.67      0.73         6\n",
            "           1       0.82      0.90      0.86        10\n",
            "\n",
            "    accuracy                           0.81        16\n",
            "   macro avg       0.81      0.78      0.79        16\n",
            "weighted avg       0.81      0.81      0.81        16\n",
            "\n"
          ]
        }
      ],
      "source": [
        "#generate classification report\n",
        "model_cl_rep_twSVC = metrics.classification_report(ytw_test, predictiontwSVC)\n",
        "print(model_cl_rep_twSVC)"
      ]
    },
    {
      "cell_type": "code",
      "execution_count": 45,
      "metadata": {
        "colab": {
          "base_uri": "https://localhost:8080/"
        },
        "id": "youWUOiZi1EB",
        "outputId": "59ec0d2f-8307-4a45-e3cf-082887b3fb48"
      },
      "outputs": [
        {
          "name": "stdout",
          "output_type": "stream",
          "text": [
            "[[4 2]\n",
            " [1 9]]\n"
          ]
        }
      ],
      "source": [
        "#generate confusion matrix\n",
        "model_cm_twSVC = metrics.confusion_matrix(ytw_test, predictiontwSVC)\n",
        "print(model_cm_twSVC)"
      ]
    },
    {
      "cell_type": "code",
      "execution_count": 141,
      "metadata": {
        "id": "8ONj3-punqSc"
      },
      "outputs": [],
      "source": [
        "model_twLSVC=LinearSVC()"
      ]
    },
    {
      "cell_type": "code",
      "execution_count": null,
      "metadata": {
        "id": "ytJkx5s5nqO7"
      },
      "outputs": [],
      "source": [
        "#train the model using the data (training data)\n",
        "model_twLSVC.fit(Xtw_train,Ytw_train)"
      ]
    },
    {
      "cell_type": "code",
      "execution_count": 143,
      "metadata": {
        "id": "ufhQrKqsnqMc"
      },
      "outputs": [],
      "source": [
        "#make prediction using the trained model\n",
        "predictiontwLSVC = model_twLSVC.predict(xtw_test)"
      ]
    },
    {
      "cell_type": "code",
      "execution_count": 144,
      "metadata": {
        "colab": {
          "base_uri": "https://localhost:8080/"
        },
        "id": "6Vc_cipPnqJ_",
        "outputId": "8b6521d0-5f69-453c-998f-429772deb51d"
      },
      "outputs": [
        {
          "name": "stdout",
          "output_type": "stream",
          "text": [
            "93.75\n"
          ]
        }
      ],
      "source": [
        "#calcualte and print accuracy\n",
        "model_acc_twLSVC = accuracy_score(ytw_test, predictiontwLSVC)*100\n",
        "print(model_acc_twLSVC)"
      ]
    },
    {
      "cell_type": "code",
      "execution_count": 145,
      "metadata": {
        "colab": {
          "base_uri": "https://localhost:8080/"
        },
        "id": "LxzwEkDhnqIA",
        "outputId": "11827d33-2740-4da9-ebed-7479e60a6ab0"
      },
      "outputs": [
        {
          "name": "stdout",
          "output_type": "stream",
          "text": [
            "              precision    recall  f1-score   support\n",
            "\n",
            "           0       0.86      1.00      0.92         6\n",
            "           1       1.00      0.90      0.95        10\n",
            "\n",
            "    accuracy                           0.94        16\n",
            "   macro avg       0.93      0.95      0.94        16\n",
            "weighted avg       0.95      0.94      0.94        16\n",
            "\n"
          ]
        }
      ],
      "source": [
        "#generate classification report\n",
        "model_cl_rep_twLSVC = metrics.classification_report(ytw_test, predictiontwLSVC)\n",
        "print(model_cl_rep_twLSVC)"
      ]
    },
    {
      "cell_type": "code",
      "execution_count": 146,
      "metadata": {
        "colab": {
          "base_uri": "https://localhost:8080/"
        },
        "id": "iAPUWT3mnqGq",
        "outputId": "caea3d2d-a99a-4bf7-b60d-de49a3a5ebce"
      },
      "outputs": [
        {
          "name": "stdout",
          "output_type": "stream",
          "text": [
            "[[6 0]\n",
            " [1 9]]\n"
          ]
        }
      ],
      "source": [
        "#generate confusion matrix\n",
        "model_cm_twLSVC = metrics.confusion_matrix(ytw_test, predictiontwLSVC)\n",
        "print(model_cm_twLSVC)"
      ]
    },
    {
      "cell_type": "code",
      "execution_count": 154,
      "metadata": {
        "id": "iO6iAufXnqFN"
      },
      "outputs": [],
      "source": [
        "model_twMLP=MLPClassifier()"
      ]
    },
    {
      "cell_type": "code",
      "execution_count": null,
      "metadata": {
        "id": "k0vadnj7nqAw"
      },
      "outputs": [],
      "source": [
        "#train the model using the data (training data)\n",
        "model_twMLP.fit(Xtw_train,Ytw_train)"
      ]
    },
    {
      "cell_type": "code",
      "execution_count": 156,
      "metadata": {
        "id": "1sii4X6bnp9B"
      },
      "outputs": [],
      "source": [
        "#make prediction using the trained model\n",
        "predictiontwMLP = model_twMLP.predict(xtw_test)"
      ]
    },
    {
      "cell_type": "code",
      "execution_count": 157,
      "metadata": {
        "colab": {
          "base_uri": "https://localhost:8080/"
        },
        "id": "g553pf6ApANe",
        "outputId": "0c6940c2-5928-45da-c04d-08dcd5a5235b"
      },
      "outputs": [
        {
          "name": "stdout",
          "output_type": "stream",
          "text": [
            "100.0\n"
          ]
        }
      ],
      "source": [
        "#calcualte and print accuracy\n",
        "model_acc_twMLP = accuracy_score(ytw_test, predictiontwMLP)*100\n",
        "print(model_acc_twMLP)"
      ]
    },
    {
      "cell_type": "code",
      "execution_count": 158,
      "metadata": {
        "colab": {
          "base_uri": "https://localhost:8080/"
        },
        "id": "3aEJfantpAJ6",
        "outputId": "ec6acab2-c6ec-4adc-ef6a-668908e83a7e"
      },
      "outputs": [
        {
          "name": "stdout",
          "output_type": "stream",
          "text": [
            "              precision    recall  f1-score   support\n",
            "\n",
            "           0       1.00      1.00      1.00         6\n",
            "           1       1.00      1.00      1.00        10\n",
            "\n",
            "    accuracy                           1.00        16\n",
            "   macro avg       1.00      1.00      1.00        16\n",
            "weighted avg       1.00      1.00      1.00        16\n",
            "\n"
          ]
        }
      ],
      "source": [
        "#generate classification report\n",
        "model_cl_rep_twMLP = metrics.classification_report(ytw_test, predictiontwMLP)\n",
        "print(model_cl_rep_twMLP)"
      ]
    },
    {
      "cell_type": "code",
      "execution_count": 159,
      "metadata": {
        "colab": {
          "base_uri": "https://localhost:8080/"
        },
        "id": "Y3KoIpOIpABM",
        "outputId": "671bcb78-931f-4930-aabe-2c251258c024"
      },
      "outputs": [
        {
          "name": "stdout",
          "output_type": "stream",
          "text": [
            "[[ 6  0]\n",
            " [ 0 10]]\n"
          ]
        }
      ],
      "source": [
        "#generate confusion matrix\n",
        "model_cm_twMLP = metrics.confusion_matrix(ytw_test, predictiontwMLP)\n",
        "print(model_cm_twMLP)"
      ]
    },
    {
      "cell_type": "markdown",
      "metadata": {
        "id": "FzQo9DIAbwgD"
      },
      "source": [
        "## **Question 2 Using 80/20 Split train/test Ratio Excluding Beard and Scarf Attributes**"
      ]
    },
    {
      "cell_type": "code",
      "execution_count": 58,
      "metadata": {
        "colab": {
          "base_uri": "https://localhost:8080/"
        },
        "id": "yiD2G7Nro_9q",
        "outputId": "253b08f7-d488-4d43-c91f-0b103659be7f"
      },
      "outputs": [
        {
          "name": "stdout",
          "output_type": "stream",
          "text": [
            "[(71, 176, 3, 44, 0), (68, 165, 0, 41, 0), (62, 132, 2, 37, 1), (65, 138, 1, 38, 3), (70, 197, 2, 43, 3), (71, 190, 3, 43, 0), (74, 201, 0, 44, 2), (74, 182, 3, 46, 2), (63, 127, 3, 35, 4), (65, 139, 2, 37, 3), (66, 125, 1, 36, 3), (73, 188, 3, 42, 3), (74, 167, 2, 41, 0), (68, 141, 1, 38, 3), (70, 199, 2, 40, 0), (73, 189, 3, 43, 1), (69, 159, 3, 43, 0), (68, 135, 1, 37, 4), (68, 145, 1, 38, 3), (66, 138, 2, 37, 4), (66, 132, 2, 40, 0), (71, 170, 2, 42, 0), (67, 119, 3, 40, 0), (70, 190, 2, 43, 3), (68, 154, 2, 38, 2), (71, 155, 2, 45, 2), (69, 121, 2, 41, 0), (68, 97, 2, 39, 4), (68, 158, 1, 38, 1), (58, 92, 3, 40, 3), (63, 109, 2, 37, 2), (71, 158, 2, 44, 3), (61, 88, 1, 37, 3), (67, 132, 2, 38, 0), (62, 116, 2, 39, 2), (71, 125, 2, 42, 2), (63, 125, 2, 39, 4), (68, 121, 2, 40, 0), (67, 145, 1, 39, 3), (65, 99, 2, 38, 4), (61, 98, 3, 37, 3), (70, 167, 2, 42, 0), (64, 122, 2, 42, 0), (61, 156, 3, 41, 2), (69, 178, 0, 44, 0), (72, 150, 2, 43, 2), (70, 160, 1, 42, 0), (67, 167, 2, 42, 2), (72, 153, 2, 42, 0), (67, 130, 2, 40, 0), (72, 154, 2, 42, 0), (67, 119, 2, 40, 2), (65, 160, 2, 41, 2), (70, 121, 2, 45, 2), (63, 103, 1, 38, 2), (74, 218, 2, 43, 0), (72, 145, 2, 42, 2), (67, 99, 1, 39, 3), (69, 209, 2, 43, 2), (67, 143, 2, 38, 2), (70, 209, 2, 44, 2), (71, 145, 2, 44, 2), (72, 185, 3, 44, 2), (65, 96, 1, 37, 4), (60, 125, 1, 38, 3), (70, 166, 0, 40, 0), (63, 102, 1, 38, 4), (67, 133, 3, 40, 0), (62, 105, 2, 37, 0), (71, 168, 3, 42, 0), (62, 100, 1, 38, 2), (74, 202, 2, 43, 0), (72, 165, 2, 44, 2), (65, 98, 1, 38, 3), (67, 145, 1, 39, 4), (65, 99, 3, 39, 4), (61, 98, 3, 37, 2), (67, 119, 3, 40, 0), (70, 190, 2, 43, 3), (62, 142, 1, 37, 1)]\n",
            "[1 1 0 0 1 1 1 1 0 0 0 1 1 0 1 1 1 0 0 0 0 1 1 1 0 1 1 0 0 0 0 1 0 0 0 1 0\n",
            " 1 0 0 0 1 1 1 1 1 1 1 1 1 1 1 1 1 0 1 1 0 1 1 1 1 1 0 0 1 0 1 0 1 0 1 1 0\n",
            " 0 0 0 1 1 0]\n"
          ]
        }
      ],
      "source": [
        "#combining data (inputs ) into single list of tuples\n",
        "features_woutbs = list(zip(first_height,first_weight,hairlength_encod,first_shoe_size,eyecolor_encod))\n",
        "output_gender =gender_encod \n",
        "\n",
        "print(features_woutbs)\n",
        "print(output_gender)"
      ]
    },
    {
      "cell_type": "code",
      "execution_count": 59,
      "metadata": {
        "id": "KbN08isQo_7J"
      },
      "outputs": [],
      "source": [
        "#make train/test split\n",
        "Xtwwt_train, xtwwt_test, Ytwwt_train, ytwwt_test = train_test_split(features_woutbs, output_gender, test_size = 0.20, random_state = 3)"
      ]
    },
    {
      "cell_type": "code",
      "execution_count": 60,
      "metadata": {
        "id": "1Q4c_Tpwo_4M"
      },
      "outputs": [],
      "source": [
        "modeltwwt_RandomF = RandomForestClassifier()"
      ]
    },
    {
      "cell_type": "code",
      "execution_count": 61,
      "metadata": {
        "colab": {
          "base_uri": "https://localhost:8080/"
        },
        "id": "OJASnYUro_1T",
        "outputId": "a4097e30-a7ed-4e43-d535-ce526cecb537"
      },
      "outputs": [
        {
          "data": {
            "text/plain": [
              "RandomForestClassifier()"
            ]
          },
          "execution_count": 61,
          "metadata": {},
          "output_type": "execute_result"
        }
      ],
      "source": [
        "#train the model using the data (training data)\n",
        "modeltwwt_RandomF.fit(Xtwwt_train,Ytwwt_train)"
      ]
    },
    {
      "cell_type": "code",
      "execution_count": 62,
      "metadata": {
        "id": "fTT4vFlQ-aak"
      },
      "outputs": [],
      "source": [
        "#make prediction using the trained model\n",
        "predictiontwwtRandomF = modeltwwt_RandomF.predict(xtwwt_test)"
      ]
    },
    {
      "cell_type": "code",
      "execution_count": 63,
      "metadata": {
        "colab": {
          "base_uri": "https://localhost:8080/"
        },
        "id": "Kyl4KLhM-aXH",
        "outputId": "be9ad406-aa4e-4db8-848f-039e3be204d8"
      },
      "outputs": [
        {
          "name": "stdout",
          "output_type": "stream",
          "text": [
            "100.0\n"
          ]
        }
      ],
      "source": [
        "#calcualte and print accuracy\n",
        "model_acc_twwtRandomF = accuracy_score(ytwwt_test, predictiontwwtRandomF)*100\n",
        "print(model_acc_twwtRandomF)"
      ]
    },
    {
      "cell_type": "code",
      "execution_count": 64,
      "metadata": {
        "colab": {
          "base_uri": "https://localhost:8080/"
        },
        "id": "dWxcPrrV-aUu",
        "outputId": "098fc1bf-8550-4622-8c64-ab2ca37a3f37"
      },
      "outputs": [
        {
          "name": "stdout",
          "output_type": "stream",
          "text": [
            "              precision    recall  f1-score   support\n",
            "\n",
            "           0       1.00      1.00      1.00         6\n",
            "           1       1.00      1.00      1.00        10\n",
            "\n",
            "    accuracy                           1.00        16\n",
            "   macro avg       1.00      1.00      1.00        16\n",
            "weighted avg       1.00      1.00      1.00        16\n",
            "\n"
          ]
        }
      ],
      "source": [
        "#generate classification report\n",
        "model_cl_rep_twwtRF = metrics.classification_report(ytwwt_test, predictiontwwtRandomF)\n",
        "print(model_cl_rep_twwtRF)"
      ]
    },
    {
      "cell_type": "code",
      "execution_count": 65,
      "metadata": {
        "colab": {
          "base_uri": "https://localhost:8080/"
        },
        "id": "3DyiVK-K-aSC",
        "outputId": "c912790b-edfe-48f7-d252-08f386894f99"
      },
      "outputs": [
        {
          "name": "stdout",
          "output_type": "stream",
          "text": [
            "[[ 6  0]\n",
            " [ 0 10]]\n"
          ]
        }
      ],
      "source": [
        "#generate confusion matrix\n",
        "model_cm_twwtRF = metrics.confusion_matrix(ytwwt_test, predictiontwwtRandomF)\n",
        "print(model_cm_twwtRF)"
      ]
    },
    {
      "cell_type": "code",
      "execution_count": 160,
      "metadata": {
        "id": "9c3bv6HD-aPi"
      },
      "outputs": [],
      "source": [
        "model_twwtSVC=SVC()"
      ]
    },
    {
      "cell_type": "code",
      "execution_count": 161,
      "metadata": {
        "colab": {
          "base_uri": "https://localhost:8080/"
        },
        "id": "m3nvNhn7-aNN",
        "outputId": "72b47f72-5d1f-43d2-d0ba-0bbdac98de37"
      },
      "outputs": [
        {
          "data": {
            "text/plain": [
              "SVC()"
            ]
          },
          "execution_count": 161,
          "metadata": {},
          "output_type": "execute_result"
        }
      ],
      "source": [
        "#train the model using the data (training data)\n",
        "model_twwtSVC.fit(Xtwwt_train,Ytwwt_train)"
      ]
    },
    {
      "cell_type": "code",
      "execution_count": 162,
      "metadata": {
        "id": "-U1Pkg_Q-aLS"
      },
      "outputs": [],
      "source": [
        "#make prediction using the trained model\n",
        "predictiontwwtSVC = model_twwtSVC.predict(xtwwt_test)"
      ]
    },
    {
      "cell_type": "code",
      "execution_count": 163,
      "metadata": {
        "colab": {
          "base_uri": "https://localhost:8080/"
        },
        "id": "lPZOAH-j-aIS",
        "outputId": "3876e986-eaa7-42a3-bcb6-b4e552b519b1"
      },
      "outputs": [
        {
          "name": "stdout",
          "output_type": "stream",
          "text": [
            "81.25\n"
          ]
        }
      ],
      "source": [
        "#calcualte and print accuracy\n",
        "model_acc_twwtSVC = accuracy_score(ytwwt_test, predictiontwwtSVC)*100\n",
        "print(model_acc_twwtSVC)"
      ]
    },
    {
      "cell_type": "code",
      "execution_count": 164,
      "metadata": {
        "colab": {
          "base_uri": "https://localhost:8080/"
        },
        "id": "peAKBkFH-Z-H",
        "outputId": "5daf08a9-305e-48f4-b916-917a95dc7146"
      },
      "outputs": [
        {
          "name": "stdout",
          "output_type": "stream",
          "text": [
            "              precision    recall  f1-score   support\n",
            "\n",
            "           0       0.80      0.67      0.73         6\n",
            "           1       0.82      0.90      0.86        10\n",
            "\n",
            "    accuracy                           0.81        16\n",
            "   macro avg       0.81      0.78      0.79        16\n",
            "weighted avg       0.81      0.81      0.81        16\n",
            "\n"
          ]
        }
      ],
      "source": [
        "#generate classification report\n",
        "model_cl_rep_twwtSVC = metrics.classification_report(ytwwt_test, predictiontwwtSVC)\n",
        "print(model_cl_rep_twwtSVC)"
      ]
    },
    {
      "cell_type": "code",
      "execution_count": 165,
      "metadata": {
        "colab": {
          "base_uri": "https://localhost:8080/"
        },
        "id": "hknJbE3cAGEX",
        "outputId": "f797752b-dff9-481e-c120-f6c2fdc2dbdb"
      },
      "outputs": [
        {
          "name": "stdout",
          "output_type": "stream",
          "text": [
            "[[4 2]\n",
            " [1 9]]\n"
          ]
        }
      ],
      "source": [
        "#generate confusion matrix\n",
        "model_cm_twwtSVC = metrics.confusion_matrix(ytwwt_test, predictiontwwtSVC)\n",
        "print(model_cm_twwtSVC)"
      ]
    },
    {
      "cell_type": "code",
      "execution_count": 78,
      "metadata": {
        "id": "rskNJl-hAGA7"
      },
      "outputs": [],
      "source": [
        "model_twwtLSVC=LinearSVC()"
      ]
    },
    {
      "cell_type": "code",
      "execution_count": null,
      "metadata": {
        "id": "_HpLgZppAF-d"
      },
      "outputs": [],
      "source": [
        "#train the model using the data (training data)\n",
        "model_twwtLSVC.fit(Xtwwt_train,Ytwwt_train)"
      ]
    },
    {
      "cell_type": "code",
      "execution_count": 80,
      "metadata": {
        "id": "hanYdOKNAF8A"
      },
      "outputs": [],
      "source": [
        "#make prediction using the trained model\n",
        "predictiontwwtLSVC = model_twwtLSVC.predict(xtwwt_test)"
      ]
    },
    {
      "cell_type": "code",
      "execution_count": 81,
      "metadata": {
        "colab": {
          "base_uri": "https://localhost:8080/"
        },
        "id": "2ItXtvG4AF6T",
        "outputId": "1605cd48-5780-4e13-8f09-50555015d1d9"
      },
      "outputs": [
        {
          "name": "stdout",
          "output_type": "stream",
          "text": [
            "68.75\n"
          ]
        }
      ],
      "source": [
        "#calcualte and print accuracy\n",
        "model_acc_twwtLSVC = accuracy_score(ytwwt_test, predictiontwwtLSVC)*100\n",
        "print(model_acc_twwtLSVC)"
      ]
    },
    {
      "cell_type": "code",
      "execution_count": 82,
      "metadata": {
        "colab": {
          "base_uri": "https://localhost:8080/"
        },
        "id": "XMnyxThAAF4J",
        "outputId": "da4940b0-e774-4737-d00b-5eb3ee5a8056"
      },
      "outputs": [
        {
          "name": "stdout",
          "output_type": "stream",
          "text": [
            "              precision    recall  f1-score   support\n",
            "\n",
            "           0       1.00      0.17      0.29         6\n",
            "           1       0.67      1.00      0.80        10\n",
            "\n",
            "    accuracy                           0.69        16\n",
            "   macro avg       0.83      0.58      0.54        16\n",
            "weighted avg       0.79      0.69      0.61        16\n",
            "\n"
          ]
        }
      ],
      "source": [
        "#generate classification report\n",
        "model_cl_rep_twwtLSVC = metrics.classification_report(ytwwt_test, predictiontwwtLSVC)\n",
        "print(model_cl_rep_twwtLSVC)"
      ]
    },
    {
      "cell_type": "code",
      "execution_count": 83,
      "metadata": {
        "colab": {
          "base_uri": "https://localhost:8080/"
        },
        "id": "X9Aw5p0uAF0y",
        "outputId": "f5ab5957-b2a4-4679-ae23-09520c7f44f1"
      },
      "outputs": [
        {
          "name": "stdout",
          "output_type": "stream",
          "text": [
            "[[ 1  5]\n",
            " [ 0 10]]\n"
          ]
        }
      ],
      "source": [
        "#generate confusion matrix\n",
        "model_cm_twwtLSVC = metrics.confusion_matrix(ytwwt_test, predictiontwwtLSVC)\n",
        "print(model_cm_twwtLSVC)"
      ]
    },
    {
      "cell_type": "code",
      "execution_count": 100,
      "metadata": {
        "id": "UJGZLnfyBK2P"
      },
      "outputs": [],
      "source": [
        "model_twwtMLP=MLPClassifier()"
      ]
    },
    {
      "cell_type": "code",
      "execution_count": 101,
      "metadata": {
        "colab": {
          "base_uri": "https://localhost:8080/"
        },
        "id": "pMCfwUYxBKyt",
        "outputId": "5751a767-b275-4423-8e50-61d476c81754"
      },
      "outputs": [
        {
          "data": {
            "text/plain": [
              "MLPClassifier()"
            ]
          },
          "execution_count": 101,
          "metadata": {},
          "output_type": "execute_result"
        }
      ],
      "source": [
        "#train the model using the data (training data)\n",
        "model_twwtMLP.fit(Xtwwt_train,Ytwwt_train)"
      ]
    },
    {
      "cell_type": "code",
      "execution_count": 102,
      "metadata": {
        "id": "LJpBoaWfBKwB"
      },
      "outputs": [],
      "source": [
        "#make prediction using the trained model\n",
        "predictiontwwtMLP = model_twwtMLP.predict(xtwwt_test)"
      ]
    },
    {
      "cell_type": "code",
      "execution_count": 103,
      "metadata": {
        "colab": {
          "base_uri": "https://localhost:8080/"
        },
        "id": "CYVcODT7BKtb",
        "outputId": "fea6d573-07c4-45c5-da1b-d61973e606f9"
      },
      "outputs": [
        {
          "name": "stdout",
          "output_type": "stream",
          "text": [
            "75.0\n"
          ]
        }
      ],
      "source": [
        "#calcualte and print accuracy\n",
        "model_acc_twwtMLP = accuracy_score(ytwwt_test, predictiontwwtMLP)*100\n",
        "print(model_acc_twwtMLP)"
      ]
    },
    {
      "cell_type": "code",
      "execution_count": 104,
      "metadata": {
        "colab": {
          "base_uri": "https://localhost:8080/"
        },
        "id": "4I2QytpsBKq2",
        "outputId": "506f717c-0539-4939-b59c-3fa59f5d4c24"
      },
      "outputs": [
        {
          "name": "stdout",
          "output_type": "stream",
          "text": [
            "              precision    recall  f1-score   support\n",
            "\n",
            "           0       1.00      0.33      0.50         6\n",
            "           1       0.71      1.00      0.83        10\n",
            "\n",
            "    accuracy                           0.75        16\n",
            "   macro avg       0.86      0.67      0.67        16\n",
            "weighted avg       0.82      0.75      0.71        16\n",
            "\n"
          ]
        }
      ],
      "source": [
        "#generate classification report\n",
        "model_cl_rep_twwtMLP = metrics.classification_report(ytwwt_test, predictiontwwtMLP)\n",
        "print(model_cl_rep_twwtMLP)"
      ]
    },
    {
      "cell_type": "code",
      "execution_count": 105,
      "metadata": {
        "colab": {
          "base_uri": "https://localhost:8080/"
        },
        "id": "nRjufxFIBKoJ",
        "outputId": "0309b016-cdaf-42ca-fab9-ac2d0c51f202"
      },
      "outputs": [
        {
          "name": "stdout",
          "output_type": "stream",
          "text": [
            "[[ 2  4]\n",
            " [ 0 10]]\n"
          ]
        }
      ],
      "source": [
        "#generate confusion matrix\n",
        "model_cm_twwtMLP = metrics.confusion_matrix(ytwwt_test, predictiontwwtMLP)\n",
        "print(model_cm_twwtMLP)"
      ]
    },
    {
      "cell_type": "markdown",
      "metadata": {
        "id": "MDLEmmG2cJcI"
      },
      "source": [
        "## **Question No 3**"
      ]
    },
    {
      "cell_type": "code",
      "execution_count": 106,
      "metadata": {
        "id": "Fblxw0GiBKlN"
      },
      "outputs": [],
      "source": [
        "model_DTC = DecisionTreeClassifier()"
      ]
    },
    {
      "cell_type": "code",
      "execution_count": 107,
      "metadata": {
        "id": "K7_Io7TKBKij"
      },
      "outputs": [],
      "source": [
        "splitcv=ShuffleSplit(n_splits=10,test_size=0.33,random_state=2)"
      ]
    },
    {
      "cell_type": "code",
      "execution_count": 108,
      "metadata": {
        "colab": {
          "base_uri": "https://localhost:8080/"
        },
        "id": "VxvepTTuBKf7",
        "outputId": "16c17ce3-d84f-4776-b8f8-9d3fbfc2a6f2"
      },
      "outputs": [
        {
          "data": {
            "text/plain": [
              "0.9425376781480785"
            ]
          },
          "execution_count": 108,
          "metadata": {},
          "output_type": "execute_result"
        }
      ],
      "source": [
        "#monte carlo cross validation\n",
        "f1_score = cross_val_score(model_DTC, features, output_gender,scoring='f1', cv=splitcv).mean()\n",
        "f1_score"
      ]
    },
    {
      "cell_type": "code",
      "execution_count": 109,
      "metadata": {
        "colab": {
          "base_uri": "https://localhost:8080/"
        },
        "id": "iXnNzWIBBKdN",
        "outputId": "6bae6b57-e555-4229-c182-25834b4ec8f2"
      },
      "outputs": [
        {
          "data": {
            "text/plain": [
              "3160"
            ]
          },
          "execution_count": 109,
          "metadata": {},
          "output_type": "execute_result"
        }
      ],
      "source": [
        "#LeavePout cross validation\n",
        "leave_pout = LeavePOut(p=3)  \n",
        "leave_pout.get_n_splits(features)  \n"
      ]
    },
    {
      "cell_type": "code",
      "execution_count": null,
      "metadata": {
        "id": "PaLXmnleBKbW"
      },
      "outputs": [],
      "source": [
        "#f1 score using leave p-out cross validation\n",
        "f1_score = cross_val_score(model_DTC, features, output_gender,scoring='f1', cv=leave_pout).mean()"
      ]
    },
    {
      "cell_type": "code",
      "execution_count": 111,
      "metadata": {
        "colab": {
          "base_uri": "https://localhost:8080/"
        },
        "id": "IvaxqpQkBKZp",
        "outputId": "93a5ba4f-1394-4bec-8b5e-dccb126f1c9f"
      },
      "outputs": [
        {
          "data": {
            "text/plain": [
              "0.7740506329113924"
            ]
          },
          "execution_count": 111,
          "metadata": {},
          "output_type": "execute_result"
        }
      ],
      "source": [
        "f1_score"
      ]
    },
    {
      "cell_type": "markdown",
      "metadata": {
        "id": "rEgWGHJPcTMZ"
      },
      "source": [
        "## **Question 4**"
      ]
    },
    {
      "cell_type": "code",
      "execution_count": 123,
      "metadata": {
        "colab": {
          "base_uri": "https://localhost:8080/",
          "height": 424
        },
        "id": "pVm5Z5bzBKYH",
        "outputId": "c20ecc82-2065-4168-9803-f928291246ea"
      },
      "outputs": [
        {
          "data": {
            "text/html": [
              "\n",
              "  <div id=\"df-7bdb524d-885f-47e0-8188-e4de1aed12e1\">\n",
              "    <div class=\"colab-df-container\">\n",
              "      <div>\n",
              "<style scoped>\n",
              "    .dataframe tbody tr th:only-of-type {\n",
              "        vertical-align: middle;\n",
              "    }\n",
              "\n",
              "    .dataframe tbody tr th {\n",
              "        vertical-align: top;\n",
              "    }\n",
              "\n",
              "    .dataframe thead th {\n",
              "        text-align: right;\n",
              "    }\n",
              "</style>\n",
              "<table border=\"1\" class=\"dataframe\">\n",
              "  <thead>\n",
              "    <tr style=\"text-align: right;\">\n",
              "      <th></th>\n",
              "      <th>height</th>\n",
              "      <th>weight</th>\n",
              "      <th>beard</th>\n",
              "      <th>hair_length</th>\n",
              "      <th>shoe_size</th>\n",
              "      <th>scarf</th>\n",
              "      <th>eye_color</th>\n",
              "      <th>gender</th>\n",
              "    </tr>\n",
              "  </thead>\n",
              "  <tbody>\n",
              "    <tr>\n",
              "      <th>0</th>\n",
              "      <td>71</td>\n",
              "      <td>176</td>\n",
              "      <td>yes</td>\n",
              "      <td>short</td>\n",
              "      <td>44</td>\n",
              "      <td>no</td>\n",
              "      <td>black</td>\n",
              "      <td>male</td>\n",
              "    </tr>\n",
              "    <tr>\n",
              "      <th>1</th>\n",
              "      <td>68</td>\n",
              "      <td>165</td>\n",
              "      <td>no</td>\n",
              "      <td>bald</td>\n",
              "      <td>41</td>\n",
              "      <td>no</td>\n",
              "      <td>black</td>\n",
              "      <td>male</td>\n",
              "    </tr>\n",
              "    <tr>\n",
              "      <th>2</th>\n",
              "      <td>62</td>\n",
              "      <td>132</td>\n",
              "      <td>no</td>\n",
              "      <td>medium</td>\n",
              "      <td>37</td>\n",
              "      <td>yes</td>\n",
              "      <td>blue</td>\n",
              "      <td>female</td>\n",
              "    </tr>\n",
              "    <tr>\n",
              "      <th>3</th>\n",
              "      <td>65</td>\n",
              "      <td>138</td>\n",
              "      <td>no</td>\n",
              "      <td>long</td>\n",
              "      <td>38</td>\n",
              "      <td>no</td>\n",
              "      <td>gray</td>\n",
              "      <td>female</td>\n",
              "    </tr>\n",
              "    <tr>\n",
              "      <th>4</th>\n",
              "      <td>70</td>\n",
              "      <td>197</td>\n",
              "      <td>yes</td>\n",
              "      <td>medium</td>\n",
              "      <td>43</td>\n",
              "      <td>no</td>\n",
              "      <td>gray</td>\n",
              "      <td>male</td>\n",
              "    </tr>\n",
              "    <tr>\n",
              "      <th>...</th>\n",
              "      <td>...</td>\n",
              "      <td>...</td>\n",
              "      <td>...</td>\n",
              "      <td>...</td>\n",
              "      <td>...</td>\n",
              "      <td>...</td>\n",
              "      <td>...</td>\n",
              "      <td>...</td>\n",
              "    </tr>\n",
              "    <tr>\n",
              "      <th>80</th>\n",
              "      <td>73</td>\n",
              "      <td>96</td>\n",
              "      <td>yes</td>\n",
              "      <td>short</td>\n",
              "      <td>41</td>\n",
              "      <td>no</td>\n",
              "      <td>green</td>\n",
              "      <td>male</td>\n",
              "    </tr>\n",
              "    <tr>\n",
              "      <th>81</th>\n",
              "      <td>63</td>\n",
              "      <td>120</td>\n",
              "      <td>no</td>\n",
              "      <td>long</td>\n",
              "      <td>33</td>\n",
              "      <td>no</td>\n",
              "      <td>brown</td>\n",
              "      <td>female</td>\n",
              "    </tr>\n",
              "    <tr>\n",
              "      <th>82</th>\n",
              "      <td>59</td>\n",
              "      <td>100</td>\n",
              "      <td>no</td>\n",
              "      <td>medium</td>\n",
              "      <td>42</td>\n",
              "      <td>no</td>\n",
              "      <td>black</td>\n",
              "      <td>male</td>\n",
              "    </tr>\n",
              "    <tr>\n",
              "      <th>83</th>\n",
              "      <td>75</td>\n",
              "      <td>130</td>\n",
              "      <td>yes</td>\n",
              "      <td>short</td>\n",
              "      <td>33</td>\n",
              "      <td>no</td>\n",
              "      <td>blue</td>\n",
              "      <td>male</td>\n",
              "    </tr>\n",
              "    <tr>\n",
              "      <th>84</th>\n",
              "      <td>60</td>\n",
              "      <td>200</td>\n",
              "      <td>no</td>\n",
              "      <td>medium</td>\n",
              "      <td>40</td>\n",
              "      <td>yes</td>\n",
              "      <td>green</td>\n",
              "      <td>female</td>\n",
              "    </tr>\n",
              "  </tbody>\n",
              "</table>\n",
              "<p>85 rows × 8 columns</p>\n",
              "</div>\n",
              "      <button class=\"colab-df-convert\" onclick=\"convertToInteractive('df-7bdb524d-885f-47e0-8188-e4de1aed12e1')\"\n",
              "              title=\"Convert this dataframe to an interactive table.\"\n",
              "              style=\"display:none;\">\n",
              "        \n",
              "  <svg xmlns=\"http://www.w3.org/2000/svg\" height=\"24px\"viewBox=\"0 0 24 24\"\n",
              "       width=\"24px\">\n",
              "    <path d=\"M0 0h24v24H0V0z\" fill=\"none\"/>\n",
              "    <path d=\"M18.56 5.44l.94 2.06.94-2.06 2.06-.94-2.06-.94-.94-2.06-.94 2.06-2.06.94zm-11 1L8.5 8.5l.94-2.06 2.06-.94-2.06-.94L8.5 2.5l-.94 2.06-2.06.94zm10 10l.94 2.06.94-2.06 2.06-.94-2.06-.94-.94-2.06-.94 2.06-2.06.94z\"/><path d=\"M17.41 7.96l-1.37-1.37c-.4-.4-.92-.59-1.43-.59-.52 0-1.04.2-1.43.59L10.3 9.45l-7.72 7.72c-.78.78-.78 2.05 0 2.83L4 21.41c.39.39.9.59 1.41.59.51 0 1.02-.2 1.41-.59l7.78-7.78 2.81-2.81c.8-.78.8-2.07 0-2.86zM5.41 20L4 18.59l7.72-7.72 1.47 1.35L5.41 20z\"/>\n",
              "  </svg>\n",
              "      </button>\n",
              "      \n",
              "  <style>\n",
              "    .colab-df-container {\n",
              "      display:flex;\n",
              "      flex-wrap:wrap;\n",
              "      gap: 12px;\n",
              "    }\n",
              "\n",
              "    .colab-df-convert {\n",
              "      background-color: #E8F0FE;\n",
              "      border: none;\n",
              "      border-radius: 50%;\n",
              "      cursor: pointer;\n",
              "      display: none;\n",
              "      fill: #1967D2;\n",
              "      height: 32px;\n",
              "      padding: 0 0 0 0;\n",
              "      width: 32px;\n",
              "    }\n",
              "\n",
              "    .colab-df-convert:hover {\n",
              "      background-color: #E2EBFA;\n",
              "      box-shadow: 0px 1px 2px rgba(60, 64, 67, 0.3), 0px 1px 3px 1px rgba(60, 64, 67, 0.15);\n",
              "      fill: #174EA6;\n",
              "    }\n",
              "\n",
              "    [theme=dark] .colab-df-convert {\n",
              "      background-color: #3B4455;\n",
              "      fill: #D2E3FC;\n",
              "    }\n",
              "\n",
              "    [theme=dark] .colab-df-convert:hover {\n",
              "      background-color: #434B5C;\n",
              "      box-shadow: 0px 1px 3px 1px rgba(0, 0, 0, 0.15);\n",
              "      filter: drop-shadow(0px 1px 2px rgba(0, 0, 0, 0.3));\n",
              "      fill: #FFFFFF;\n",
              "    }\n",
              "  </style>\n",
              "\n",
              "      <script>\n",
              "        const buttonEl =\n",
              "          document.querySelector('#df-7bdb524d-885f-47e0-8188-e4de1aed12e1 button.colab-df-convert');\n",
              "        buttonEl.style.display =\n",
              "          google.colab.kernel.accessAllowed ? 'block' : 'none';\n",
              "\n",
              "        async function convertToInteractive(key) {\n",
              "          const element = document.querySelector('#df-7bdb524d-885f-47e0-8188-e4de1aed12e1');\n",
              "          const dataTable =\n",
              "            await google.colab.kernel.invokeFunction('convertToInteractive',\n",
              "                                                     [key], {});\n",
              "          if (!dataTable) return;\n",
              "\n",
              "          const docLinkHtml = 'Like what you see? Visit the ' +\n",
              "            '<a target=\"_blank\" href=https://colab.research.google.com/notebooks/data_table.ipynb>data table notebook</a>'\n",
              "            + ' to learn more about interactive tables.';\n",
              "          element.innerHTML = '';\n",
              "          dataTable['output_type'] = 'display_data';\n",
              "          await google.colab.output.renderOutput(dataTable, element);\n",
              "          const docLink = document.createElement('div');\n",
              "          docLink.innerHTML = docLinkHtml;\n",
              "          element.appendChild(docLink);\n",
              "        }\n",
              "      </script>\n",
              "    </div>\n",
              "  </div>\n",
              "  "
            ],
            "text/plain": [
              "    height  weight beard hair_length  shoe_size scarf eye_color  gender\n",
              "0       71     176   yes       short         44    no     black    male\n",
              "1       68     165    no        bald         41    no     black    male\n",
              "2       62     132    no      medium         37   yes      blue  female\n",
              "3       65     138    no        long         38    no      gray  female\n",
              "4       70     197   yes      medium         43    no      gray    male\n",
              "..     ...     ...   ...         ...        ...   ...       ...     ...\n",
              "80      73      96   yes       short         41    no     green    male\n",
              "81      63     120    no        long         33    no     brown  female\n",
              "82      59     100    no      medium         42    no     black    male\n",
              "83      75     130   yes       short         33    no      blue    male\n",
              "84      60     200    no      medium         40   yes     green  female\n",
              "\n",
              "[85 rows x 8 columns]"
            ]
          },
          "execution_count": 123,
          "metadata": {},
          "output_type": "execute_result"
        }
      ],
      "source": [
        "#read CSV (dataset) file\n",
        "df_gender_updated = pd.read_csv('/content/drive/My Drive/gender_prediction_updated - gender-prediction.csv')\n",
        "df_gender_updated"
      ]
    },
    {
      "cell_type": "code",
      "execution_count": 124,
      "metadata": {
        "colab": {
          "base_uri": "https://localhost:8080/",
          "height": 424
        },
        "id": "9Ry1BpNAhfY-",
        "outputId": "45a16a0f-ddef-4a13-e685-bd252ce8def4"
      },
      "outputs": [
        {
          "data": {
            "text/html": [
              "\n",
              "  <div id=\"df-2094c1cd-02c3-4076-b973-f1020b1c0a11\">\n",
              "    <div class=\"colab-df-container\">\n",
              "      <div>\n",
              "<style scoped>\n",
              "    .dataframe tbody tr th:only-of-type {\n",
              "        vertical-align: middle;\n",
              "    }\n",
              "\n",
              "    .dataframe tbody tr th {\n",
              "        vertical-align: top;\n",
              "    }\n",
              "\n",
              "    .dataframe thead th {\n",
              "        text-align: right;\n",
              "    }\n",
              "</style>\n",
              "<table border=\"1\" class=\"dataframe\">\n",
              "  <thead>\n",
              "    <tr style=\"text-align: right;\">\n",
              "      <th></th>\n",
              "      <th>gender</th>\n",
              "    </tr>\n",
              "  </thead>\n",
              "  <tbody>\n",
              "    <tr>\n",
              "      <th>0</th>\n",
              "      <td>male</td>\n",
              "    </tr>\n",
              "    <tr>\n",
              "      <th>1</th>\n",
              "      <td>male</td>\n",
              "    </tr>\n",
              "    <tr>\n",
              "      <th>2</th>\n",
              "      <td>female</td>\n",
              "    </tr>\n",
              "    <tr>\n",
              "      <th>3</th>\n",
              "      <td>female</td>\n",
              "    </tr>\n",
              "    <tr>\n",
              "      <th>4</th>\n",
              "      <td>male</td>\n",
              "    </tr>\n",
              "    <tr>\n",
              "      <th>...</th>\n",
              "      <td>...</td>\n",
              "    </tr>\n",
              "    <tr>\n",
              "      <th>80</th>\n",
              "      <td>male</td>\n",
              "    </tr>\n",
              "    <tr>\n",
              "      <th>81</th>\n",
              "      <td>female</td>\n",
              "    </tr>\n",
              "    <tr>\n",
              "      <th>82</th>\n",
              "      <td>male</td>\n",
              "    </tr>\n",
              "    <tr>\n",
              "      <th>83</th>\n",
              "      <td>male</td>\n",
              "    </tr>\n",
              "    <tr>\n",
              "      <th>84</th>\n",
              "      <td>female</td>\n",
              "    </tr>\n",
              "  </tbody>\n",
              "</table>\n",
              "<p>85 rows × 1 columns</p>\n",
              "</div>\n",
              "      <button class=\"colab-df-convert\" onclick=\"convertToInteractive('df-2094c1cd-02c3-4076-b973-f1020b1c0a11')\"\n",
              "              title=\"Convert this dataframe to an interactive table.\"\n",
              "              style=\"display:none;\">\n",
              "        \n",
              "  <svg xmlns=\"http://www.w3.org/2000/svg\" height=\"24px\"viewBox=\"0 0 24 24\"\n",
              "       width=\"24px\">\n",
              "    <path d=\"M0 0h24v24H0V0z\" fill=\"none\"/>\n",
              "    <path d=\"M18.56 5.44l.94 2.06.94-2.06 2.06-.94-2.06-.94-.94-2.06-.94 2.06-2.06.94zm-11 1L8.5 8.5l.94-2.06 2.06-.94-2.06-.94L8.5 2.5l-.94 2.06-2.06.94zm10 10l.94 2.06.94-2.06 2.06-.94-2.06-.94-.94-2.06-.94 2.06-2.06.94z\"/><path d=\"M17.41 7.96l-1.37-1.37c-.4-.4-.92-.59-1.43-.59-.52 0-1.04.2-1.43.59L10.3 9.45l-7.72 7.72c-.78.78-.78 2.05 0 2.83L4 21.41c.39.39.9.59 1.41.59.51 0 1.02-.2 1.41-.59l7.78-7.78 2.81-2.81c.8-.78.8-2.07 0-2.86zM5.41 20L4 18.59l7.72-7.72 1.47 1.35L5.41 20z\"/>\n",
              "  </svg>\n",
              "      </button>\n",
              "      \n",
              "  <style>\n",
              "    .colab-df-container {\n",
              "      display:flex;\n",
              "      flex-wrap:wrap;\n",
              "      gap: 12px;\n",
              "    }\n",
              "\n",
              "    .colab-df-convert {\n",
              "      background-color: #E8F0FE;\n",
              "      border: none;\n",
              "      border-radius: 50%;\n",
              "      cursor: pointer;\n",
              "      display: none;\n",
              "      fill: #1967D2;\n",
              "      height: 32px;\n",
              "      padding: 0 0 0 0;\n",
              "      width: 32px;\n",
              "    }\n",
              "\n",
              "    .colab-df-convert:hover {\n",
              "      background-color: #E2EBFA;\n",
              "      box-shadow: 0px 1px 2px rgba(60, 64, 67, 0.3), 0px 1px 3px 1px rgba(60, 64, 67, 0.15);\n",
              "      fill: #174EA6;\n",
              "    }\n",
              "\n",
              "    [theme=dark] .colab-df-convert {\n",
              "      background-color: #3B4455;\n",
              "      fill: #D2E3FC;\n",
              "    }\n",
              "\n",
              "    [theme=dark] .colab-df-convert:hover {\n",
              "      background-color: #434B5C;\n",
              "      box-shadow: 0px 1px 3px 1px rgba(0, 0, 0, 0.15);\n",
              "      filter: drop-shadow(0px 1px 2px rgba(0, 0, 0, 0.3));\n",
              "      fill: #FFFFFF;\n",
              "    }\n",
              "  </style>\n",
              "\n",
              "      <script>\n",
              "        const buttonEl =\n",
              "          document.querySelector('#df-2094c1cd-02c3-4076-b973-f1020b1c0a11 button.colab-df-convert');\n",
              "        buttonEl.style.display =\n",
              "          google.colab.kernel.accessAllowed ? 'block' : 'none';\n",
              "\n",
              "        async function convertToInteractive(key) {\n",
              "          const element = document.querySelector('#df-2094c1cd-02c3-4076-b973-f1020b1c0a11');\n",
              "          const dataTable =\n",
              "            await google.colab.kernel.invokeFunction('convertToInteractive',\n",
              "                                                     [key], {});\n",
              "          if (!dataTable) return;\n",
              "\n",
              "          const docLinkHtml = 'Like what you see? Visit the ' +\n",
              "            '<a target=\"_blank\" href=https://colab.research.google.com/notebooks/data_table.ipynb>data table notebook</a>'\n",
              "            + ' to learn more about interactive tables.';\n",
              "          element.innerHTML = '';\n",
              "          dataTable['output_type'] = 'display_data';\n",
              "          await google.colab.output.renderOutput(dataTable, element);\n",
              "          const docLink = document.createElement('div');\n",
              "          docLink.innerHTML = docLinkHtml;\n",
              "          element.appendChild(docLink);\n",
              "        }\n",
              "      </script>\n",
              "    </div>\n",
              "  </div>\n",
              "  "
            ],
            "text/plain": [
              "    gender\n",
              "0     male\n",
              "1     male\n",
              "2   female\n",
              "3   female\n",
              "4     male\n",
              "..     ...\n",
              "80    male\n",
              "81  female\n",
              "82    male\n",
              "83    male\n",
              "84  female\n",
              "\n",
              "[85 rows x 1 columns]"
            ]
          },
          "execution_count": 124,
          "metadata": {},
          "output_type": "execute_result"
        }
      ],
      "source": [
        "#seperate dependent (output) and independent (input) variables\n",
        "inp = df_gender_updated.drop('gender', axis=1)\n",
        "out = pd.DataFrame(df_gender_updated['gender'])\n",
        "out"
      ]
    },
    {
      "cell_type": "code",
      "execution_count": 126,
      "metadata": {
        "colab": {
          "base_uri": "https://localhost:8080/",
          "height": 424
        },
        "id": "_uxRTCEahfV4",
        "outputId": "d662afad-65bd-4256-f913-e53395180431"
      },
      "outputs": [
        {
          "data": {
            "text/html": [
              "\n",
              "  <div id=\"df-78df7b15-30d6-4d42-b6b1-b943076482cc\">\n",
              "    <div class=\"colab-df-container\">\n",
              "      <div>\n",
              "<style scoped>\n",
              "    .dataframe tbody tr th:only-of-type {\n",
              "        vertical-align: middle;\n",
              "    }\n",
              "\n",
              "    .dataframe tbody tr th {\n",
              "        vertical-align: top;\n",
              "    }\n",
              "\n",
              "    .dataframe thead th {\n",
              "        text-align: right;\n",
              "    }\n",
              "</style>\n",
              "<table border=\"1\" class=\"dataframe\">\n",
              "  <thead>\n",
              "    <tr style=\"text-align: right;\">\n",
              "      <th></th>\n",
              "      <th>gender</th>\n",
              "    </tr>\n",
              "  </thead>\n",
              "  <tbody>\n",
              "    <tr>\n",
              "      <th>0</th>\n",
              "      <td>1</td>\n",
              "    </tr>\n",
              "    <tr>\n",
              "      <th>1</th>\n",
              "      <td>1</td>\n",
              "    </tr>\n",
              "    <tr>\n",
              "      <th>2</th>\n",
              "      <td>0</td>\n",
              "    </tr>\n",
              "    <tr>\n",
              "      <th>3</th>\n",
              "      <td>0</td>\n",
              "    </tr>\n",
              "    <tr>\n",
              "      <th>4</th>\n",
              "      <td>1</td>\n",
              "    </tr>\n",
              "    <tr>\n",
              "      <th>...</th>\n",
              "      <td>...</td>\n",
              "    </tr>\n",
              "    <tr>\n",
              "      <th>80</th>\n",
              "      <td>1</td>\n",
              "    </tr>\n",
              "    <tr>\n",
              "      <th>81</th>\n",
              "      <td>0</td>\n",
              "    </tr>\n",
              "    <tr>\n",
              "      <th>82</th>\n",
              "      <td>1</td>\n",
              "    </tr>\n",
              "    <tr>\n",
              "      <th>83</th>\n",
              "      <td>1</td>\n",
              "    </tr>\n",
              "    <tr>\n",
              "      <th>84</th>\n",
              "      <td>0</td>\n",
              "    </tr>\n",
              "  </tbody>\n",
              "</table>\n",
              "<p>85 rows × 1 columns</p>\n",
              "</div>\n",
              "      <button class=\"colab-df-convert\" onclick=\"convertToInteractive('df-78df7b15-30d6-4d42-b6b1-b943076482cc')\"\n",
              "              title=\"Convert this dataframe to an interactive table.\"\n",
              "              style=\"display:none;\">\n",
              "        \n",
              "  <svg xmlns=\"http://www.w3.org/2000/svg\" height=\"24px\"viewBox=\"0 0 24 24\"\n",
              "       width=\"24px\">\n",
              "    <path d=\"M0 0h24v24H0V0z\" fill=\"none\"/>\n",
              "    <path d=\"M18.56 5.44l.94 2.06.94-2.06 2.06-.94-2.06-.94-.94-2.06-.94 2.06-2.06.94zm-11 1L8.5 8.5l.94-2.06 2.06-.94-2.06-.94L8.5 2.5l-.94 2.06-2.06.94zm10 10l.94 2.06.94-2.06 2.06-.94-2.06-.94-.94-2.06-.94 2.06-2.06.94z\"/><path d=\"M17.41 7.96l-1.37-1.37c-.4-.4-.92-.59-1.43-.59-.52 0-1.04.2-1.43.59L10.3 9.45l-7.72 7.72c-.78.78-.78 2.05 0 2.83L4 21.41c.39.39.9.59 1.41.59.51 0 1.02-.2 1.41-.59l7.78-7.78 2.81-2.81c.8-.78.8-2.07 0-2.86zM5.41 20L4 18.59l7.72-7.72 1.47 1.35L5.41 20z\"/>\n",
              "  </svg>\n",
              "      </button>\n",
              "      \n",
              "  <style>\n",
              "    .colab-df-container {\n",
              "      display:flex;\n",
              "      flex-wrap:wrap;\n",
              "      gap: 12px;\n",
              "    }\n",
              "\n",
              "    .colab-df-convert {\n",
              "      background-color: #E8F0FE;\n",
              "      border: none;\n",
              "      border-radius: 50%;\n",
              "      cursor: pointer;\n",
              "      display: none;\n",
              "      fill: #1967D2;\n",
              "      height: 32px;\n",
              "      padding: 0 0 0 0;\n",
              "      width: 32px;\n",
              "    }\n",
              "\n",
              "    .colab-df-convert:hover {\n",
              "      background-color: #E2EBFA;\n",
              "      box-shadow: 0px 1px 2px rgba(60, 64, 67, 0.3), 0px 1px 3px 1px rgba(60, 64, 67, 0.15);\n",
              "      fill: #174EA6;\n",
              "    }\n",
              "\n",
              "    [theme=dark] .colab-df-convert {\n",
              "      background-color: #3B4455;\n",
              "      fill: #D2E3FC;\n",
              "    }\n",
              "\n",
              "    [theme=dark] .colab-df-convert:hover {\n",
              "      background-color: #434B5C;\n",
              "      box-shadow: 0px 1px 3px 1px rgba(0, 0, 0, 0.15);\n",
              "      filter: drop-shadow(0px 1px 2px rgba(0, 0, 0, 0.3));\n",
              "      fill: #FFFFFF;\n",
              "    }\n",
              "  </style>\n",
              "\n",
              "      <script>\n",
              "        const buttonEl =\n",
              "          document.querySelector('#df-78df7b15-30d6-4d42-b6b1-b943076482cc button.colab-df-convert');\n",
              "        buttonEl.style.display =\n",
              "          google.colab.kernel.accessAllowed ? 'block' : 'none';\n",
              "\n",
              "        async function convertToInteractive(key) {\n",
              "          const element = document.querySelector('#df-78df7b15-30d6-4d42-b6b1-b943076482cc');\n",
              "          const dataTable =\n",
              "            await google.colab.kernel.invokeFunction('convertToInteractive',\n",
              "                                                     [key], {});\n",
              "          if (!dataTable) return;\n",
              "\n",
              "          const docLinkHtml = 'Like what you see? Visit the ' +\n",
              "            '<a target=\"_blank\" href=https://colab.research.google.com/notebooks/data_table.ipynb>data table notebook</a>'\n",
              "            + ' to learn more about interactive tables.';\n",
              "          element.innerHTML = '';\n",
              "          dataTable['output_type'] = 'display_data';\n",
              "          await google.colab.output.renderOutput(dataTable, element);\n",
              "          const docLink = document.createElement('div');\n",
              "          docLink.innerHTML = docLinkHtml;\n",
              "          element.appendChild(docLink);\n",
              "        }\n",
              "      </script>\n",
              "    </div>\n",
              "  </div>\n",
              "  "
            ],
            "text/plain": [
              "    gender\n",
              "0        1\n",
              "1        1\n",
              "2        0\n",
              "3        0\n",
              "4        1\n",
              "..     ...\n",
              "80       1\n",
              "81       0\n",
              "82       1\n",
              "83       1\n",
              "84       0\n",
              "\n",
              "[85 rows x 1 columns]"
            ]
          },
          "execution_count": 126,
          "metadata": {},
          "output_type": "execute_result"
        }
      ],
      "source": [
        "labels = preprocessing.LabelEncoder()\n",
        "#encoding the categorical attribute of input\n",
        "inp.beard = labels.fit_transform(inp.beard)\n",
        "inp.hair_length = labels.fit_transform(inp.hair_length)\n",
        "inp.scarf = labels.fit_transform(inp.scarf)\n",
        "inp.eye_color = labels.fit_transform(inp.eye_color)\n",
        "#encodign the output\n",
        "out.gender = labels.fit_transform(out.gender)\n",
        "out"
      ]
    },
    {
      "cell_type": "code",
      "execution_count": 127,
      "metadata": {
        "id": "5S_ZhyvipV3x"
      },
      "outputs": [],
      "source": [
        "#accessing a multiple records (rows) from the DataFrame using numerical index\n",
        "train_up = inp.iloc[:80]\n",
        "train_output_up = out.iloc[:80]"
      ]
    },
    {
      "cell_type": "code",
      "execution_count": 128,
      "metadata": {
        "id": "tQNicOHnpVwd"
      },
      "outputs": [],
      "source": [
        "test_up = inp.iloc[80:]\n",
        "test_output_up = out.iloc[80:]"
      ]
    },
    {
      "cell_type": "code",
      "execution_count": 129,
      "metadata": {
        "id": "Z6eWR1TLpVs7"
      },
      "outputs": [],
      "source": [
        "model_GNB = GaussianNB()"
      ]
    },
    {
      "cell_type": "code",
      "execution_count": null,
      "metadata": {
        "id": "HrjrcnQrqHXL"
      },
      "outputs": [],
      "source": [
        "model_GNB.fit(train_up,train_output_up)"
      ]
    },
    {
      "cell_type": "code",
      "execution_count": 131,
      "metadata": {
        "id": "013mQ_P5qHTt"
      },
      "outputs": [],
      "source": [
        "#make prediction using the gausian trained model\n",
        "predictions_GNB = model_GNB.predict(test_up)"
      ]
    },
    {
      "cell_type": "code",
      "execution_count": 132,
      "metadata": {
        "colab": {
          "base_uri": "https://localhost:8080/"
        },
        "id": "iYQxFuZOqHRH",
        "outputId": "0176edaa-bd4d-4f75-ae4b-039dec017b49"
      },
      "outputs": [
        {
          "name": "stdout",
          "output_type": "stream",
          "text": [
            "100.0\n"
          ]
        }
      ],
      "source": [
        "model_GNB_accuracy = accuracy_score(test_output_up, predictions_GNB)*100\n",
        "print(model_GNB_accuracy)"
      ]
    },
    {
      "cell_type": "code",
      "execution_count": 133,
      "metadata": {
        "colab": {
          "base_uri": "https://localhost:8080/"
        },
        "id": "lPw8F9MfqHOd",
        "outputId": "9b6f47fb-a7ca-4471-9dbf-92f844e8a88f"
      },
      "outputs": [
        {
          "data": {
            "text/plain": [
              "1.0"
            ]
          },
          "execution_count": 133,
          "metadata": {},
          "output_type": "execute_result"
        }
      ],
      "source": [
        "model_GNB_recall = recall_score(test_output_up,predictions_GNB)\n",
        "model_GNB_recall"
      ]
    },
    {
      "cell_type": "code",
      "execution_count": 134,
      "metadata": {
        "colab": {
          "base_uri": "https://localhost:8080/"
        },
        "id": "kc7F6dfPqHL9",
        "outputId": "14588909-adbd-4321-d981-35f14ced041b"
      },
      "outputs": [
        {
          "data": {
            "text/plain": [
              "1.0"
            ]
          },
          "execution_count": 134,
          "metadata": {},
          "output_type": "execute_result"
        }
      ],
      "source": [
        "model_GNB_precision = precision_score(test_output_up,predictions_GNB)\n",
        "model_GNB_precision"
      ]
    }
  ],
  "metadata": {
    "colab": {
      "provenance": []
    },
    "kernelspec": {
      "display_name": "Python 3",
      "language": "python",
      "name": "python3"
    },
    "language_info": {
      "name": "python",
      "version": "3.10.2 (v3.10.2:a58ebcc701, Jan 13 2022, 14:50:16) [Clang 13.0.0 (clang-1300.0.29.30)]"
    },
    "vscode": {
      "interpreter": {
        "hash": "aee8b7b246df8f9039afb4144a1f6fd8d2ca17a180786b69acc140d282b71a49"
      }
    }
  },
  "nbformat": 4,
  "nbformat_minor": 0
}
